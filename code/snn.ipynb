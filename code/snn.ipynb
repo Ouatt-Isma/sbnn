{
  "cells": [
    {
      "cell_type": "markdown",
      "metadata": {
        "id": "-YrymzUU5eTU"
      },
      "source": [
        "# Quantifying Classification Uncertainty in Deep Neural Networks"
      ]
    },
    {
      "cell_type": "markdown",
      "metadata": {
        "id": "XSI-n9LN5eTV"
      },
      "source": [
        "The purpose of this page is to provide an easy-to-run demo with low computational requirements for the ideas proposed in the paper _Evidential Deep Learning to Quantify Classification Uncertainty_. Using MNIST dataset, I demonstrate how to create neural networks that are able to quantify classification uncertainty. The paper can be accesed over http://arxiv.org/abs/1806.01768\n",
        "\n",
        "You can run this notebook in Colab using the colab icon below:\n"
      ]
    },
    {
      "cell_type": "markdown",
      "metadata": {
        "id": "-XUSIkCP5eTW"
      },
      "source": [
        "<a href=\"https://colab.research.google.com/github/muratsensoy/muratsensoy.github.io/blob/master/uncertainty.ipynb\" target=\"_parent\"><img src=\"https://colab.research.google.com/assets/colab-badge.svg\" alt=\"Open In Colab\"/></a>"
      ]
    },
    {
      "cell_type": "markdown",
      "metadata": {
        "id": "pDOjiFFf5eTW"
      },
      "source": [
        "The notebook can also be downloaded using https://muratsensoy.github.io/uncertainty.ipynb"
      ]
    },
    {
      "cell_type": "markdown",
      "metadata": {
        "id": "QU8uQog_5eTW"
      },
      "source": [
        "#  Neural Networks Trained with Softmax Cross Entropy Loss"
      ]
    },
    {
      "cell_type": "markdown",
      "metadata": {
        "id": "tCSOoV5p5eTW"
      },
      "source": [
        "The following lines of codes demonstrate how softmax based Deep Neural Networks fail when they encounter out-of-sample queries."
      ]
    },
    {
      "cell_type": "code",
      "execution_count": 84,
      "metadata": {
        "id": "w2NI5Dm75eTX"
      },
      "outputs": [],
      "source": [
        "# import necessary libraries\n",
        "import tensorflow as tf\n",
        "import numpy as np\n",
        "from matplotlib import pyplot as plt\n",
        "import scipy.ndimage as nd\n",
        "\n",
        "%matplotlib inline\n",
        "import pylab as pl\n",
        "from IPython import display\n",
        "\n",
        "from sl import MultinomialOpinion\n",
        "import os\n"
      ]
    },
    {
      "cell_type": "code",
      "execution_count": 124,
      "metadata": {},
      "outputs": [
        {
          "data": {
            "text/plain": [
              "<module 'sl' from 'd:\\\\Users\\\\k50034798\\\\Documents\\\\Paper\\\\SBNN\\\\code\\\\sl.py'>"
            ]
          },
          "execution_count": 124,
          "metadata": {},
          "output_type": "execute_result"
        }
      ],
      "source": [
        "# import importlib\n",
        "# import sl\n",
        "# importlib.reload(sl)   "
      ]
    },
    {
      "cell_type": "code",
      "execution_count": 6,
      "metadata": {
        "id": "sv1B1KUo6RXm"
      },
      "outputs": [],
      "source": [
        "(x_train, y_train), (x_test, y_test) = tf.keras.datasets.mnist.load_data()\n",
        "\n",
        "# Preprocess\n",
        "x_train = x_train.reshape(-1, 784).astype(\"float32\") / 255.0\n",
        "x_test = x_test.reshape(-1, 784).astype(\"float32\") / 255.0\n",
        "\n",
        "# One-hot labels\n",
        "y_train = tf.keras.utils.to_categorical(y_train, 10)\n",
        "y_test = tf.keras.utils.to_categorical(y_test, 10)\n",
        "\n",
        "K = 10  # number of classes"
      ]
    },
    {
      "cell_type": "code",
      "execution_count": 7,
      "metadata": {
        "colab": {
          "base_uri": "https://localhost:8080/",
          "height": 406
        },
        "id": "EzxahdhC5eTX",
        "outputId": "b14bb5af-1df5-43dd-dc34-6c1682039364"
      },
      "outputs": [
        {
          "data": {
            "image/png": "[encoded data removed]",
            "text/plain": [
              "<Figure size 640x480 with 1 Axes>"
            ]
          },
          "metadata": {},
          "output_type": "display_data"
        }
      ],
      "source": [
        "# Get the 4th training image from TF2 dataset\n",
        "digit_one = x_train[3].copy()   # shape (784,)\n",
        "plt.imshow(digit_one.reshape(28, 28), cmap=\"gray\")\n",
        "plt.axis(\"off\")\n",
        "plt.show()"
      ]
    },
    {
      "cell_type": "code",
      "execution_count": 8,
      "metadata": {
        "collapsed": true,
        "id": "C7QNWcao5eTY"
      },
      "outputs": [],
      "source": [
        "# define some utility functions\n",
        "def rotate_img(x, deg):\n",
        "    import scipy.ndimage as nd\n",
        "    return nd.rotate(x.reshape(28,28),deg,reshape=False).ravel()"
      ]
    },
    {
      "cell_type": "markdown",
      "metadata": {
        "id": "lGLH3KrMR659"
      },
      "source": [
        "## LeNet"
      ]
    },
    {
      "cell_type": "code",
      "execution_count": 9,
      "metadata": {
        "collapsed": true,
        "id": "IpO36nOx5eTY"
      },
      "outputs": [],
      "source": [
        "\n",
        "# 1. Define the LeNet model\n",
        "def LeNet_softmax(lmb=0.005):\n",
        "    l2 = tf.keras.regularizers.l2(lmb)\n",
        "    model = tf.keras.Sequential([\n",
        "        tf.keras.layers.Reshape((28, 28, 1), input_shape=(28*28,)),\n",
        "\n",
        "        tf.keras.layers.Conv2D(20, kernel_size=5, activation='relu', kernel_regularizer=l2),\n",
        "        tf.keras.layers.MaxPooling2D(pool_size=(2, 2)),\n",
        "\n",
        "        tf.keras.layers.Conv2D(50, kernel_size=5, activation='relu', kernel_regularizer=l2),\n",
        "        tf.keras.layers.MaxPooling2D(pool_size=(2, 2)),\n",
        "\n",
        "        tf.keras.layers.Flatten(),\n",
        "\n",
        "        tf.keras.layers.Dense(500, activation='relu', kernel_regularizer=l2),\n",
        "        tf.keras.layers.Dropout(0.5),\n",
        "\n",
        "        tf.keras.layers.Dense(10, activation='softmax', kernel_regularizer=l2)\n",
        "    ])\n",
        "\n",
        "    model.compile(\n",
        "        optimizer=tf.keras.optimizers.Adam(),\n",
        "        loss='categorical_crossentropy',\n",
        "        metrics=['accuracy']\n",
        "    )\n",
        "    return model"
      ]
    },
    {
      "cell_type": "code",
      "execution_count": 10,
      "metadata": {
        "colab": {
          "base_uri": "https://localhost:8080/"
        },
        "id": "tLSJ-eX27gfu",
        "outputId": "21dfa410-d32b-429d-b7c5-249335ac32f1"
      },
      "outputs": [
        {
          "name": "stdout",
          "output_type": "stream",
          "text": [
            "Epoch 1/50\n"
          ]
        },
        {
          "name": "stderr",
          "output_type": "stream",
          "text": [
            "c:\\ProgramData\\miniconda3\\envs\\snn\\Lib\\site-packages\\keras\\src\\layers\\reshaping\\reshape.py:39: UserWarning: Do not pass an `input_shape`/`input_dim` argument to a layer. When using Sequential models, prefer using an `Input(shape)` object as the first layer in the model instead.\n",
            "  super().__init__(**kwargs)\n"
          ]
        },
        {
          "name": "stdout",
          "output_type": "stream",
          "text": [
            "Epoch 1/50\n",
            "60/60 - 11s - 183ms/step - accuracy: 0.8016 - loss: 2.3802 - val_accuracy: 0.9516 - val_loss: 1.0112\n",
            "Epoch 2/50\n",
            "60/60 - 9s - 155ms/step - accuracy: 0.9510 - loss: 0.7313 - val_accuracy: 0.9691 - val_loss: 0.4889\n",
            "Epoch 3/50\n",
            "60/60 - 10s - 160ms/step - accuracy: 0.9611 - loss: 0.4467 - val_accuracy: 0.9738 - val_loss: 0.3576\n",
            "Epoch 4/50\n",
            "60/60 - 9s - 150ms/step - accuracy: 0.9646 - loss: 0.3587 - val_accuracy: 0.9754 - val_loss: 0.3015\n",
            "Epoch 5/50\n",
            "60/60 - 9s - 152ms/step - accuracy: 0.9667 - loss: 0.3235 - val_accuracy: 0.9786 - val_loss: 0.2755\n",
            "Epoch 6/50\n",
            "60/60 - 10s - 166ms/step - accuracy: 0.9694 - loss: 0.3062 - val_accuracy: 0.9791 - val_loss: 0.2683\n",
            "Epoch 7/50\n",
            "60/60 - 9s - 149ms/step - accuracy: 0.9705 - loss: 0.2940 - val_accuracy: 0.9801 - val_loss: 0.2609\n",
            "Epoch 8/50\n",
            "60/60 - 9s - 155ms/step - accuracy: 0.9698 - loss: 0.2934 - val_accuracy: 0.9796 - val_loss: 0.2578\n",
            "Epoch 9/50\n",
            "60/60 - 10s - 167ms/step - accuracy: 0.9707 - loss: 0.2886 - val_accuracy: 0.9801 - val_loss: 0.2556\n",
            "Epoch 10/50\n",
            "60/60 - 9s - 148ms/step - accuracy: 0.9726 - loss: 0.2796 - val_accuracy: 0.9813 - val_loss: 0.2498\n",
            "Epoch 11/50\n",
            "60/60 - 9s - 146ms/step - accuracy: 0.9724 - loss: 0.2769 - val_accuracy: 0.9798 - val_loss: 0.2535\n",
            "Epoch 12/50\n",
            "60/60 - 9s - 145ms/step - accuracy: 0.9705 - loss: 0.2849 - val_accuracy: 0.9806 - val_loss: 0.2532\n",
            "Epoch 13/50\n",
            "60/60 - 9s - 143ms/step - accuracy: 0.9708 - loss: 0.2792 - val_accuracy: 0.9785 - val_loss: 0.2561\n",
            "Epoch 14/50\n",
            "60/60 - 9s - 149ms/step - accuracy: 0.9733 - loss: 0.2742 - val_accuracy: 0.9810 - val_loss: 0.2435\n",
            "Epoch 15/50\n",
            "60/60 - 9s - 155ms/step - accuracy: 0.9731 - loss: 0.2744 - val_accuracy: 0.9809 - val_loss: 0.2458\n",
            "Epoch 16/50\n",
            "60/60 - 9s - 148ms/step - accuracy: 0.9729 - loss: 0.2736 - val_accuracy: 0.9799 - val_loss: 0.2482\n",
            "Epoch 17/50\n",
            "60/60 - 9s - 153ms/step - accuracy: 0.9741 - loss: 0.2687 - val_accuracy: 0.9822 - val_loss: 0.2394\n",
            "Epoch 18/50\n",
            "60/60 - 10s - 164ms/step - accuracy: 0.9737 - loss: 0.2687 - val_accuracy: 0.9825 - val_loss: 0.2421\n",
            "Epoch 19/50\n",
            "60/60 - 9s - 148ms/step - accuracy: 0.9734 - loss: 0.2711 - val_accuracy: 0.9820 - val_loss: 0.2446\n",
            "Epoch 20/50\n",
            "60/60 - 10s - 170ms/step - accuracy: 0.9727 - loss: 0.2740 - val_accuracy: 0.9783 - val_loss: 0.2520\n",
            "Epoch 21/50\n",
            "60/60 - 9s - 152ms/step - accuracy: 0.9729 - loss: 0.2705 - val_accuracy: 0.9794 - val_loss: 0.2519\n",
            "Epoch 22/50\n",
            "60/60 - 9s - 150ms/step - accuracy: 0.9730 - loss: 0.2699 - val_accuracy: 0.9805 - val_loss: 0.2430\n",
            "Epoch 23/50\n",
            "60/60 - 8s - 140ms/step - accuracy: 0.9732 - loss: 0.2700 - val_accuracy: 0.9793 - val_loss: 0.2452\n",
            "Epoch 24/50\n",
            "60/60 - 9s - 143ms/step - accuracy: 0.9739 - loss: 0.2672 - val_accuracy: 0.9825 - val_loss: 0.2400\n",
            "Epoch 25/50\n",
            "60/60 - 9s - 155ms/step - accuracy: 0.9739 - loss: 0.2677 - val_accuracy: 0.9804 - val_loss: 0.2440\n",
            "Epoch 26/50\n",
            "60/60 - 10s - 174ms/step - accuracy: 0.9738 - loss: 0.2673 - val_accuracy: 0.9814 - val_loss: 0.2442\n",
            "Epoch 27/50\n",
            "60/60 - 9s - 143ms/step - accuracy: 0.9731 - loss: 0.2689 - val_accuracy: 0.9811 - val_loss: 0.2402\n",
            "Epoch 28/50\n",
            "60/60 - 9s - 149ms/step - accuracy: 0.9749 - loss: 0.2650 - val_accuracy: 0.9821 - val_loss: 0.2398\n",
            "Epoch 29/50\n",
            "60/60 - 9s - 145ms/step - accuracy: 0.9748 - loss: 0.2635 - val_accuracy: 0.9815 - val_loss: 0.2380\n",
            "Epoch 30/50\n",
            "60/60 - 9s - 146ms/step - accuracy: 0.9742 - loss: 0.2634 - val_accuracy: 0.9817 - val_loss: 0.2389\n",
            "Epoch 31/50\n",
            "60/60 - 9s - 145ms/step - accuracy: 0.9747 - loss: 0.2627 - val_accuracy: 0.9813 - val_loss: 0.2397\n",
            "Epoch 32/50\n",
            "60/60 - 9s - 150ms/step - accuracy: 0.9742 - loss: 0.2648 - val_accuracy: 0.9798 - val_loss: 0.2431\n",
            "Epoch 33/50\n",
            "60/60 - 9s - 154ms/step - accuracy: 0.9749 - loss: 0.2635 - val_accuracy: 0.9795 - val_loss: 0.2437\n",
            "Epoch 34/50\n",
            "60/60 - 10s - 159ms/step - accuracy: 0.9739 - loss: 0.2664 - val_accuracy: 0.9807 - val_loss: 0.2386\n",
            "Epoch 35/50\n",
            "60/60 - 10s - 160ms/step - accuracy: 0.9737 - loss: 0.2637 - val_accuracy: 0.9817 - val_loss: 0.2378\n",
            "Epoch 36/50\n",
            "60/60 - 11s - 179ms/step - accuracy: 0.9742 - loss: 0.2640 - val_accuracy: 0.9818 - val_loss: 0.2380\n",
            "Epoch 37/50\n",
            "60/60 - 11s - 179ms/step - accuracy: 0.9751 - loss: 0.2610 - val_accuracy: 0.9813 - val_loss: 0.2349\n",
            "Epoch 38/50\n",
            "60/60 - 12s - 200ms/step - accuracy: 0.9744 - loss: 0.2621 - val_accuracy: 0.9803 - val_loss: 0.2451\n",
            "Epoch 39/50\n",
            "60/60 - 10s - 167ms/step - accuracy: 0.9741 - loss: 0.2638 - val_accuracy: 0.9777 - val_loss: 0.2450\n",
            "Epoch 40/50\n",
            "60/60 - 10s - 169ms/step - accuracy: 0.9752 - loss: 0.2620 - val_accuracy: 0.9814 - val_loss: 0.2368\n",
            "Epoch 41/50\n",
            "60/60 - 11s - 175ms/step - accuracy: 0.9743 - loss: 0.2625 - val_accuracy: 0.9818 - val_loss: 0.2350\n",
            "Epoch 42/50\n",
            "60/60 - 10s - 166ms/step - accuracy: 0.9748 - loss: 0.2627 - val_accuracy: 0.9824 - val_loss: 0.2374\n",
            "Epoch 43/50\n",
            "60/60 - 10s - 170ms/step - accuracy: 0.9755 - loss: 0.2599 - val_accuracy: 0.9810 - val_loss: 0.2386\n",
            "Epoch 44/50\n",
            "60/60 - 10s - 171ms/step - accuracy: 0.9739 - loss: 0.2619 - val_accuracy: 0.9813 - val_loss: 0.2366\n",
            "Epoch 45/50\n",
            "60/60 - 10s - 170ms/step - accuracy: 0.9752 - loss: 0.2592 - val_accuracy: 0.9808 - val_loss: 0.2375\n",
            "Epoch 46/50\n",
            "60/60 - 11s - 185ms/step - accuracy: 0.9733 - loss: 0.2650 - val_accuracy: 0.9796 - val_loss: 0.2419\n",
            "Epoch 47/50\n",
            "60/60 - 9s - 145ms/step - accuracy: 0.9745 - loss: 0.2614 - val_accuracy: 0.9786 - val_loss: 0.2464\n",
            "Epoch 48/50\n",
            "60/60 - 10s - 164ms/step - accuracy: 0.9740 - loss: 0.2641 - val_accuracy: 0.9802 - val_loss: 0.2380\n",
            "Epoch 49/50\n",
            "60/60 - 9s - 153ms/step - accuracy: 0.9749 - loss: 0.2594 - val_accuracy: 0.9802 - val_loss: 0.2359\n",
            "Epoch 50/50\n",
            "60/60 - 9s - 142ms/step - accuracy: 0.9744 - loss: 0.2611 - val_accuracy: 0.9802 - val_loss: 0.2376\n",
            "Final training accuracy: 0.9787 \t testing accuracy: 0.9802\n",
            "60/60 - 6s - 92ms/step - accuracy: 0.7822 - loss: 2.3797 - val_accuracy: 0.9450 - val_loss: 0.9797\n",
            "Epoch 2/50\n",
            "60/60 - 6s - 92ms/step - accuracy: 0.9466 - loss: 0.7325 - val_accuracy: 0.9697 - val_loss: 0.4922\n",
            "Epoch 3/50\n",
            "60/60 - 6s - 108ms/step - accuracy: 0.9604 - loss: 0.4550 - val_accuracy: 0.9751 - val_loss: 0.3557\n",
            "Epoch 4/50\n",
            "60/60 - 6s - 108ms/step - accuracy: 0.9642 - loss: 0.3657 - val_accuracy: 0.9743 - val_loss: 0.3109\n",
            "Epoch 5/50\n",
            "60/60 - 6s - 108ms/step - accuracy: 0.9681 - loss: 0.3256 - val_accuracy: 0.9783 - val_loss: 0.2817\n",
            "Epoch 6/50\n",
            "60/60 - 7s - 120ms/step - accuracy: 0.9698 - loss: 0.3071 - val_accuracy: 0.9793 - val_loss: 0.2692\n",
            "Epoch 7/50\n",
            "60/60 - 7s - 121ms/step - accuracy: 0.9692 - loss: 0.2982 - val_accuracy: 0.9809 - val_loss: 0.2592\n",
            "Epoch 8/50\n",
            "60/60 - 7s - 122ms/step - accuracy: 0.9700 - loss: 0.2914 - val_accuracy: 0.9795 - val_loss: 0.2557\n",
            "Epoch 9/50\n",
            "60/60 - 7s - 121ms/step - accuracy: 0.9701 - loss: 0.2873 - val_accuracy: 0.9761 - val_loss: 0.2600\n",
            "Epoch 10/50\n",
            "60/60 - 9s - 152ms/step - accuracy: 0.9711 - loss: 0.2825 - val_accuracy: 0.9795 - val_loss: 0.2514\n",
            "Epoch 11/50\n",
            "60/60 - 8s - 132ms/step - accuracy: 0.9725 - loss: 0.2774 - val_accuracy: 0.9813 - val_loss: 0.2470\n",
            "Epoch 12/50\n",
            "60/60 - 7s - 124ms/step - accuracy: 0.9724 - loss: 0.2762 - val_accuracy: 0.9821 - val_loss: 0.2436\n",
            "Epoch 13/50\n",
            "60/60 - 8s - 129ms/step - accuracy: 0.9729 - loss: 0.2723 - val_accuracy: 0.9793 - val_loss: 0.2483\n",
            "Epoch 14/50\n",
            "60/60 - 7s - 120ms/step - accuracy: 0.9730 - loss: 0.2722 - val_accuracy: 0.9788 - val_loss: 0.2530\n",
            "Epoch 15/50\n",
            "60/60 - 7s - 120ms/step - accuracy: 0.9719 - loss: 0.2747 - val_accuracy: 0.9811 - val_loss: 0.2433\n",
            "Epoch 16/50\n",
            "60/60 - 8s - 131ms/step - accuracy: 0.9725 - loss: 0.2729 - val_accuracy: 0.9793 - val_loss: 0.2467\n",
            "Epoch 17/50\n",
            "60/60 - 8s - 126ms/step - accuracy: 0.9734 - loss: 0.2680 - val_accuracy: 0.9807 - val_loss: 0.2446\n",
            "Epoch 18/50\n",
            "60/60 - 7s - 117ms/step - accuracy: 0.9727 - loss: 0.2712 - val_accuracy: 0.9798 - val_loss: 0.2450\n",
            "Epoch 19/50\n",
            "60/60 - 7s - 120ms/step - accuracy: 0.9731 - loss: 0.2705 - val_accuracy: 0.9811 - val_loss: 0.2437\n",
            "Epoch 20/50\n",
            "60/60 - 7s - 117ms/step - accuracy: 0.9729 - loss: 0.2688 - val_accuracy: 0.9786 - val_loss: 0.2484\n",
            "Epoch 21/50\n",
            "60/60 - 7s - 118ms/step - accuracy: 0.9738 - loss: 0.2684 - val_accuracy: 0.9810 - val_loss: 0.2433\n",
            "Epoch 22/50\n",
            "60/60 - 7s - 119ms/step - accuracy: 0.9737 - loss: 0.2666 - val_accuracy: 0.9790 - val_loss: 0.2456\n",
            "Epoch 23/50\n",
            "60/60 - 7s - 120ms/step - accuracy: 0.9735 - loss: 0.2677 - val_accuracy: 0.9819 - val_loss: 0.2387\n",
            "Epoch 24/50\n",
            "60/60 - 7s - 120ms/step - accuracy: 0.9750 - loss: 0.2628 - val_accuracy: 0.9792 - val_loss: 0.2439\n",
            "Epoch 25/50\n",
            "60/60 - 7s - 120ms/step - accuracy: 0.9742 - loss: 0.2640 - val_accuracy: 0.9804 - val_loss: 0.2415\n",
            "Epoch 26/50\n",
            "60/60 - 7s - 115ms/step - accuracy: 0.9735 - loss: 0.2664 - val_accuracy: 0.9789 - val_loss: 0.2468\n",
            "Epoch 27/50\n",
            "60/60 - 7s - 121ms/step - accuracy: 0.9737 - loss: 0.2660 - val_accuracy: 0.9796 - val_loss: 0.2446\n",
            "Epoch 28/50\n",
            "60/60 - 7s - 123ms/step - accuracy: 0.9734 - loss: 0.2665 - val_accuracy: 0.9831 - val_loss: 0.2351\n",
            "Epoch 29/50\n",
            "60/60 - 7s - 121ms/step - accuracy: 0.9743 - loss: 0.2651 - val_accuracy: 0.9830 - val_loss: 0.2364\n",
            "Epoch 30/50\n",
            "60/60 - 7s - 121ms/step - accuracy: 0.9742 - loss: 0.2630 - val_accuracy: 0.9802 - val_loss: 0.2388\n",
            "Epoch 31/50\n",
            "60/60 - 7s - 120ms/step - accuracy: 0.9737 - loss: 0.2633 - val_accuracy: 0.9810 - val_loss: 0.2392\n",
            "Epoch 32/50\n",
            "60/60 - 7s - 121ms/step - accuracy: 0.9744 - loss: 0.2632 - val_accuracy: 0.9797 - val_loss: 0.2454\n",
            "Epoch 33/50\n",
            "60/60 - 7s - 117ms/step - accuracy: 0.9738 - loss: 0.2630 - val_accuracy: 0.9807 - val_loss: 0.2362\n",
            "Epoch 34/50\n",
            "60/60 - 7s - 116ms/step - accuracy: 0.9740 - loss: 0.2631 - val_accuracy: 0.9821 - val_loss: 0.2386\n",
            "Epoch 35/50\n",
            "60/60 - 7s - 117ms/step - accuracy: 0.9749 - loss: 0.2612 - val_accuracy: 0.9814 - val_loss: 0.2428\n",
            "Epoch 36/50\n",
            "60/60 - 7s - 119ms/step - accuracy: 0.9732 - loss: 0.2639 - val_accuracy: 0.9814 - val_loss: 0.2343\n",
            "Epoch 37/50\n",
            "60/60 - 7s - 119ms/step - accuracy: 0.9743 - loss: 0.2615 - val_accuracy: 0.9832 - val_loss: 0.2334\n",
            "Epoch 38/50\n",
            "60/60 - 7s - 118ms/step - accuracy: 0.9743 - loss: 0.2614 - val_accuracy: 0.9806 - val_loss: 0.2375\n",
            "Epoch 39/50\n",
            "60/60 - 7s - 119ms/step - accuracy: 0.9739 - loss: 0.2626 - val_accuracy: 0.9803 - val_loss: 0.2403\n",
            "Epoch 40/50\n",
            "60/60 - 7s - 119ms/step - accuracy: 0.9743 - loss: 0.2610 - val_accuracy: 0.9814 - val_loss: 0.2363\n",
            "Epoch 41/50\n",
            "60/60 - 7s - 118ms/step - accuracy: 0.9735 - loss: 0.2631 - val_accuracy: 0.9819 - val_loss: 0.2333\n",
            "Epoch 42/50\n",
            "60/60 - 7s - 115ms/step - accuracy: 0.9737 - loss: 0.2625 - val_accuracy: 0.9813 - val_loss: 0.2342\n",
            "Epoch 43/50\n",
            "60/60 - 7s - 115ms/step - accuracy: 0.9747 - loss: 0.2587 - val_accuracy: 0.9820 - val_loss: 0.2353\n",
            "Epoch 44/50\n",
            "60/60 - 7s - 116ms/step - accuracy: 0.9734 - loss: 0.2619 - val_accuracy: 0.9812 - val_loss: 0.2416\n",
            "Epoch 45/50\n",
            "60/60 - 7s - 116ms/step - accuracy: 0.9751 - loss: 0.2583 - val_accuracy: 0.9831 - val_loss: 0.2341\n",
            "Epoch 46/50\n",
            "60/60 - 7s - 118ms/step - accuracy: 0.9748 - loss: 0.2602 - val_accuracy: 0.9822 - val_loss: 0.2334\n",
            "Epoch 47/50\n",
            "60/60 - 7s - 116ms/step - accuracy: 0.9743 - loss: 0.2601 - val_accuracy: 0.9822 - val_loss: 0.2387\n",
            "Epoch 48/50\n",
            "60/60 - 7s - 117ms/step - accuracy: 0.9747 - loss: 0.2593 - val_accuracy: 0.9822 - val_loss: 0.2349\n",
            "Epoch 49/50\n",
            "60/60 - 7s - 114ms/step - accuracy: 0.9746 - loss: 0.2598 - val_accuracy: 0.9809 - val_loss: 0.2337\n",
            "Epoch 50/50\n",
            "60/60 - 7s - 113ms/step - accuracy: 0.9739 - loss: 0.2613 - val_accuracy: 0.9822 - val_loss: 0.2353\n",
            "Final training accuracy: 0.9803 \t testing accuracy: 0.9822\n"
          ]
        }
      ],
      "source": [
        "# 3. Build the model\n",
        "model_LeNet = LeNet_softmax()\n",
        "\n",
        "# 4. Train the model\n",
        "history = model_LeNet.fit(\n",
        "    x_train, y_train,\n",
        "    batch_size=1000,        # same as your old bsize\n",
        "    epochs=50,              # same number of epochs\n",
        "    validation_data=(x_test, y_test),\n",
        "    verbose=2               # shows progress like before\n",
        ")\n",
        "\n",
        "# 5. Final evaluation\n",
        "train_loss, train_acc = model_LeNet.evaluate(x_train, y_train, verbose=0)\n",
        "test_loss, test_acc = model_LeNet.evaluate(x_test, y_test, verbose=0)\n",
        "print(f\"Final training accuracy: {train_acc:.4f} \\t testing accuracy: {test_acc:.4f}\")"
      ]
    },
    {
      "cell_type": "markdown",
      "metadata": {
        "id": "UU1eI1ID5eTY"
      },
      "source": [
        "The test accuracy after 50 epochs is around 98.9%. Now, we want to classify a rotating digit from MNIST dataset to see how this network does for the samples that are not from the training set distribution. The following lines of codes helps us to see it."
      ]
    },
    {
      "cell_type": "code",
      "execution_count": 11,
      "metadata": {
        "collapsed": true,
        "id": "oPccN6J05eTY"
      },
      "outputs": [],
      "source": [
        "# This method rotates an image counter-clockwise and classify it for different degress of rotation.\n",
        "# It plots the highest classification probability along with the class label for each rotation degree.\n",
        "\n",
        "def rotating_image_classification(img, model, uncertainty_fn=None, threshold=0.5, K=10, is_edl=False, is_snn=False):\n",
        "    \"\"\"\n",
        "    Rotate an MNIST image counter-clockwise and classify it for different degrees of rotation.\n",
        "    Works with both softmax models and EDL models.\n",
        "\n",
        "    Args:\n",
        "        img : np.array, shape (28,28) or (784,)\n",
        "            Input MNIST image (values in [0,1]).\n",
        "        model : tf.keras.Model\n",
        "            Trained model (softmax or EDL).\n",
        "        uncertainty_fn : callable or None\n",
        "            Function (model, image_batch) -> uncertainty values. Optional.\n",
        "        threshold : float\n",
        "            Probability threshold for keeping class predictions.\n",
        "        K : int\n",
        "            Number of classes (default = 10 for MNIST).\n",
        "        is_edl : bool\n",
        "            If True, treat model outputs as EDL logits -> convert to Dirichlet probs.\n",
        "    \"\"\"\n",
        "    Mdeg = 180\n",
        "    Ndeg = int(Mdeg / 10) + 1\n",
        "    ldeg, lp, lu = [], [], []\n",
        "    scores = np.zeros((1, K))\n",
        "    rimgs = np.zeros((28, 28 * Ndeg))\n",
        "\n",
        "    for i, deg in enumerate(np.linspace(0, Mdeg, Ndeg)):\n",
        "        # rotate and normalize\n",
        "        nimg = rotate_img(img, deg).reshape(28, 28)\n",
        "        nimg = np.clip(nimg, 0, 1)\n",
        "        rimgs[:, i*28:(i+1)*28] = nimg\n",
        "\n",
        "        # flatten for model input\n",
        "        nimg_flat = nimg.reshape(1, -1)\n",
        "        logits = model.predict(nimg_flat, verbose=0)\n",
        "\n",
        "        # --- Handle EDL vs Softmax ---\n",
        "        if is_edl:\n",
        "            evidence = np.maximum(logits, 0)\n",
        "            alpha = evidence + 1\n",
        "            p_pred_t = alpha / np.sum(alpha, axis=1, keepdims=True)\n",
        "            u = K / np.sum(alpha, axis=1, keepdims=True)\n",
        "        elif is_snn:\n",
        "          p_pred_t = tf.nn.softmax(logits, axis=-1)\n",
        "        else:\n",
        "            p_pred_t = logits  # already probs\n",
        "\n",
        "        # Uncertainty if provided\n",
        "        if uncertainty_fn is not None:\n",
        "            u = uncertainty_fn(model, nimg_flat)\n",
        "            lu.append(u.mean())\n",
        "        if is_snn:\n",
        "          scores += tf.cast(p_pred_t >= threshold, tf.int32).numpy()\n",
        "        else:\n",
        "          scores += (p_pred_t >= threshold)\n",
        "        ldeg.append(deg)\n",
        "        lp.append(p_pred_t[0])\n",
        "\n",
        "    # keep only active labels\n",
        "    labels = np.arange(K)[scores[0].astype(bool)]\n",
        "    lp = np.array(lp)[:, labels]\n",
        "\n",
        "    # plot probabilities\n",
        "    c = ['black','blue','red','brown','purple','cyan']\n",
        "    marker = ['s','^','o'] * 2\n",
        "    labels = labels.tolist()\n",
        "\n",
        "    for i in range(len(labels)):\n",
        "        plt.plot(ldeg, lp[:, i], marker=marker[i], c=c[i])\n",
        "\n",
        "    if uncertainty_fn is not None:\n",
        "        labels += ['uncertainty']\n",
        "        plt.plot(ldeg, lu, marker='<', c='red')\n",
        "\n",
        "    plt.legend(labels)\n",
        "    plt.xlim([0, Mdeg])\n",
        "    plt.xlabel('Rotation Degree')\n",
        "    plt.ylabel('Classification Probability')\n",
        "    plt.show()\n",
        "\n",
        "    # montage of rotated images\n",
        "    plt.figure(figsize=(6.2, 10))\n",
        "    plt.imshow(1 - rimgs, cmap='gray')\n",
        "    plt.axis('off')\n",
        "    plt.show()\n"
      ]
    },
    {
      "cell_type": "code",
      "execution_count": 12,
      "metadata": {
        "colab": {
          "base_uri": "https://localhost:8080/",
          "height": 494
        },
        "id": "vgaTgkI65eTY",
        "outputId": "6a9a5d33-b6bd-4fd5-8a9b-96e9f2c1b016"
      },
      "outputs": [
        {
          "data": {
            "image/png": "[encoded data removed]",
            "text/plain": [
              "<Figure size 640x480 with 1 Axes>"
            ]
          },
          "metadata": {},
          "output_type": "display_data"
        },
        {
          "data": {
            "image/png": "[encoded data removed]",
            "text/plain": [
              "<Figure size 620x1000 with 1 Axes>"
            ]
          },
          "metadata": {},
          "output_type": "display_data"
        }
      ],
      "source": [
        "rotating_image_classification(digit_one, model_LeNet)"
      ]
    },
    {
      "cell_type": "markdown",
      "metadata": {
        "id": "KWRqHKYE5eTZ"
      },
      "source": [
        "As shown above, a neural network trained to generate softmax probabilities fails significantly when it encounters a sample that is different from the training examples. The softmax forces neural network to pick one class, even though the object belongs to an unknown category. This is demonstrated when we rotate the digit one between 60 and 130 degrees."
      ]
    },
    {
      "cell_type": "markdown",
      "metadata": {
        "id": "tFiH8Z1p5eTZ"
      },
      "source": [
        "# Classification with Evidential Deep Learning"
      ]
    },
    {
      "cell_type": "markdown",
      "metadata": {
        "id": "7MWL1U1t5eTZ"
      },
      "source": [
        "In the following sections, we train the same neural network using the loss functions introduced in the paper."
      ]
    },
    {
      "cell_type": "markdown",
      "metadata": {
        "collapsed": true,
        "id": "3dUshp0K5eTZ"
      },
      "source": [
        "## Using the Expected Mean Square Error (Eq. 5)"
      ]
    },
    {
      "cell_type": "markdown",
      "metadata": {
        "collapsed": true,
        "id": "E-GaDNmp5eTZ"
      },
      "source": [
        "As described in the paper, a neural network can be trained to learn parameters of a Dirichlet distribution, instead of softmax probabilities. Dirichlet distributions with parameters $\\alpha \\geq 1$ behaves like a generative model for softmax probabilities (categorical distributions). It associates a likelihood value with each categorical distribution."
      ]
    },
    {
      "cell_type": "markdown",
      "metadata": {
        "id": "2upByBa_5eTZ"
      },
      "source": [
        "## Some functions to convert logits to evidence"
      ]
    },
    {
      "cell_type": "code",
      "execution_count": 13,
      "metadata": {
        "id": "EzNUkDiD5eTZ"
      },
      "outputs": [],
      "source": [
        "# This function to generate evidence is used for the first example\n",
        "def relu_evidence(logits):\n",
        "    return tf.nn.relu(logits)\n",
        "\n",
        "# This one usually works better and used for the second and third examples\n",
        "# For general settings and different datasets, you may try this one first\n",
        "def exp_evidence(logits):\n",
        "    return tf.exp(tf.clip_by_value(logits/10,-10,10))\n",
        "\n",
        "# This one is another alternative and\n",
        "# usually behaves better than the relu_evidence\n",
        "def softplus_evidence(logits):\n",
        "    return tf.nn.softplus(logits)"
      ]
    },
    {
      "cell_type": "markdown",
      "metadata": {
        "id": "npUIraei5eTZ"
      },
      "source": [
        "## Define the loss function"
      ]
    },
    {
      "cell_type": "code",
      "execution_count": 14,
      "metadata": {
        "collapsed": true,
        "id": "7ThesJRY5eTZ"
      },
      "outputs": [],
      "source": [
        "def KL(alpha):\n",
        "    beta = tf.ones((1, K), dtype=tf.float32)\n",
        "    S_alpha = tf.reduce_sum(alpha, axis=1, keepdims=True)\n",
        "    S_beta = tf.reduce_sum(beta, axis=1, keepdims=True)\n",
        "    lnB = tf.math.lgamma(S_alpha) - tf.reduce_sum(tf.math.lgamma(alpha), axis=1, keepdims=True)\n",
        "    lnB_uni = tf.reduce_sum(tf.math.lgamma(beta), axis=1, keepdims=True) - tf.math.lgamma(S_beta)\n",
        "    dg0 = tf.math.digamma(S_alpha)\n",
        "    dg1 = tf.math.digamma(alpha)\n",
        "    return tf.reduce_sum((alpha - beta) * (dg1 - dg0), axis=1, keepdims=True) + lnB + lnB_uni\n",
        "\n",
        "# ---- Custom EDL Loss ----\n",
        "def edl_mse_loss(p, alpha, global_step, annealing_step):\n",
        "    S = tf.reduce_sum(alpha, axis=1, keepdims=True)\n",
        "    E = alpha - 1\n",
        "    m = alpha / S\n",
        "\n",
        "    A = tf.reduce_sum((p - m) ** 2, axis=1, keepdims=True)\n",
        "    B = tf.reduce_sum(alpha * (S - alpha) / (S*S*(S+1)), axis=1, keepdims=True)\n",
        "\n",
        "    annealing_coef = tf.minimum(1.0, tf.cast(global_step/annealing_step, tf.float32))\n",
        "\n",
        "    alp = E * (1 - p) + 1\n",
        "    C = annealing_coef * KL(alp)\n",
        "    return (A + B) + C\n"
      ]
    },
    {
      "cell_type": "code",
      "execution_count": 15,
      "metadata": {
        "collapsed": true,
        "id": "oSW0vsQM5eTZ"
      },
      "outputs": [],
      "source": [
        "# ---- Custom EDL Loss ----\n",
        "def edl_mse_loss(p, alpha, global_step, annealing_step):\n",
        "    S = tf.reduce_sum(alpha, axis=1, keepdims=True)\n",
        "    E = alpha - 1\n",
        "    m = alpha / S\n",
        "\n",
        "    A = tf.reduce_sum((p - m) ** 2, axis=1, keepdims=True)\n",
        "    B = tf.reduce_sum(alpha * (S - alpha) / (S*S*(S+1)), axis=1, keepdims=True)\n",
        "\n",
        "    annealing_coef = tf.minimum(1.0, tf.cast(global_step/annealing_step, tf.float32))\n",
        "\n",
        "    alp = E * (1 - p) + 1\n",
        "    C = annealing_coef * KL(alp)\n",
        "    return (A + B) + C\n",
        "\n",
        "class EDLLoss(tf.keras.losses.Loss):\n",
        "    def __init__(self, annealing_step, **kwargs):\n",
        "        super().__init__(**kwargs)\n",
        "        self.global_step = tf.Variable(0, trainable=False, dtype=tf.float32)\n",
        "        self.annealing_step = annealing_step\n",
        "\n",
        "    def call(self, y_true, y_pred):\n",
        "        evidence = relu_evidence(y_pred)  # you can swap with exp_evidence or softplus_evidence\n",
        "        alpha = evidence + 1\n",
        "        loss = edl_mse_loss(y_true, alpha, self.global_step, self.annealing_step)\n",
        "        self.global_step.assign_add(1.0)\n",
        "        return tf.reduce_mean(loss)\n",
        "    \n",
        "    def uncertainty(self, y_pred):\n",
        "        evidence = relu_evidence(y_pred)\n",
        "        alpha = evidence + 1\n",
        "        K = tf.cast(tf.shape(y_pred)[-1], tf.float32)\n",
        "        return K / tf.reduce_sum(alpha, axis=1, keepdims=True)\n",
        "\n",
        "# ---- LeNet EDL Model ----\n",
        "def LeNet_EDL(lmb=0.005):\n",
        "    l2 = tf.keras.regularizers.l2(lmb)\n",
        "    model = tf.keras.Sequential([\n",
        "        tf.keras.layers.Reshape((28, 28, 1), input_shape=(28*28,)),\n",
        "\n",
        "        tf.keras.layers.Conv2D(20, kernel_size=5, activation='relu', kernel_regularizer=l2),\n",
        "        tf.keras.layers.MaxPooling2D(pool_size=(2, 2)),\n",
        "\n",
        "        tf.keras.layers.Conv2D(50, kernel_size=5, activation='relu', kernel_regularizer=l2),\n",
        "        tf.keras.layers.MaxPooling2D(pool_size=(2, 2)),\n",
        "\n",
        "        tf.keras.layers.Flatten(),\n",
        "\n",
        "        tf.keras.layers.Dense(500, activation='relu', kernel_regularizer=l2),\n",
        "        tf.keras.layers.Dropout(0.5),\n",
        "\n",
        "        tf.keras.layers.Dense(K)  # raw logits\n",
        "    ])\n",
        "    return model"
      ]
    },
    {
      "cell_type": "code",
      "execution_count": 16,
      "metadata": {
        "id": "5TDw7Dl1-fo3"
      },
      "outputs": [],
      "source": [
        "class EDLLogger(tf.keras.callbacks.Callback):\n",
        "    def __init__(self, x_train, y_train, x_test, y_test):\n",
        "        super().__init__()\n",
        "        self.x_train, self.y_train = x_train, y_train\n",
        "        self.x_test, self.y_test = x_test, y_test\n",
        "        self.train_acc1, self.train_ev_s, self.train_ev_f = [], [], []\n",
        "        self.test_acc1, self.test_ev_s, self.test_ev_f = [], [], []\n",
        "\n",
        "    def on_epoch_end(self, epoch, logs=None):\n",
        "        # Get predictions\n",
        "        train_logits = self.model.predict(self.x_train, verbose=0)\n",
        "        test_logits  = self.model.predict(self.x_test, verbose=0)\n",
        "\n",
        "        # Convert logits -> evidence -> alpha\n",
        "        evidence_train = relu_evidence(train_logits)\n",
        "        alpha_train = evidence_train + 1\n",
        "        pred_train = np.argmax(alpha_train, axis=1)\n",
        "        truth_train = np.argmax(self.y_train, axis=1)\n",
        "        correct_train = (pred_train == truth_train)\n",
        "\n",
        "        evidence_test = relu_evidence(test_logits)\n",
        "        alpha_test = evidence_test + 1\n",
        "        pred_test = np.argmax(alpha_test, axis=1)\n",
        "        truth_test = np.argmax(self.y_test, axis=1)\n",
        "        correct_test = (pred_test == truth_test)\n",
        "\n",
        "        # Mean evidence for success/failure\n",
        "        total_ev_train = np.sum(evidence_train, axis=1)\n",
        "        self.train_ev_s.append(np.mean(total_ev_train[correct_train]))\n",
        "        self.train_ev_f.append(np.mean(total_ev_train[~correct_train]))\n",
        "        self.train_acc1.append(np.mean(correct_train))\n",
        "\n",
        "        total_ev_test = np.sum(evidence_test, axis=1)\n",
        "        self.test_ev_s.append(np.mean(total_ev_test[correct_test]))\n",
        "        self.test_ev_f.append(np.mean(total_ev_test[~correct_test]))\n",
        "        self.test_acc1.append(np.mean(correct_test))\n"
      ]
    },
    {
      "cell_type": "code",
      "execution_count": 17,
      "metadata": {
        "colab": {
          "base_uri": "https://localhost:8080/"
        },
        "id": "mpAEMUrS5eTZ",
        "outputId": "767a621d-c8f9-4bfc-c083-8f553dfd4efc"
      },
      "outputs": [
        {
          "name": "stdout",
          "output_type": "stream",
          "text": [
            "Epoch 1/50\n"
          ]
        },
        {
          "name": "stdout",
          "output_type": "stream",
          "text": [
            "60/60 - 30s - 507ms/step - accuracy: 0.6412 - loss: 1.8242 - val_accuracy: 0.9094 - val_loss: 0.6684\n",
            "Epoch 2/50\n",
            "60/60 - 22s - 373ms/step - accuracy: 0.9180 - loss: 0.5783 - val_accuracy: 0.9532 - val_loss: 0.4622\n",
            "Epoch 3/50\n",
            "60/60 - 20s - 332ms/step - accuracy: 0.9436 - loss: 0.4905 - val_accuracy: 0.9592 - val_loss: 0.4370\n",
            "Epoch 4/50\n",
            "60/60 - 22s - 361ms/step - accuracy: 0.9508 - loss: 0.4781 - val_accuracy: 0.9576 - val_loss: 0.4465\n",
            "Epoch 5/50\n",
            "60/60 - 20s - 335ms/step - accuracy: 0.9560 - loss: 0.4724 - val_accuracy: 0.9682 - val_loss: 0.4286\n",
            "Epoch 6/50\n",
            "60/60 - 19s - 315ms/step - accuracy: 0.9571 - loss: 0.4756 - val_accuracy: 0.9635 - val_loss: 0.4544\n",
            "Epoch 7/50\n",
            "60/60 - 23s - 380ms/step - accuracy: 0.9591 - loss: 0.4804 - val_accuracy: 0.9722 - val_loss: 0.4287\n",
            "Epoch 8/50\n",
            "60/60 - 24s - 401ms/step - accuracy: 0.9608 - loss: 0.4843 - val_accuracy: 0.9700 - val_loss: 0.4540\n",
            "Epoch 9/50\n",
            "60/60 - 22s - 359ms/step - accuracy: 0.9623 - loss: 0.4853 - val_accuracy: 0.9734 - val_loss: 0.4359\n",
            "Epoch 10/50\n",
            "60/60 - 18s - 305ms/step - accuracy: 0.9643 - loss: 0.4758 - val_accuracy: 0.9723 - val_loss: 0.4429\n",
            "Epoch 11/50\n",
            "60/60 - 19s - 309ms/step - accuracy: 0.9635 - loss: 0.4705 - val_accuracy: 0.9742 - val_loss: 0.4312\n",
            "Epoch 12/50\n",
            "60/60 - 18s - 303ms/step - accuracy: 0.9644 - loss: 0.4659 - val_accuracy: 0.9762 - val_loss: 0.4193\n",
            "Epoch 13/50\n",
            "60/60 - 19s - 309ms/step - accuracy: 0.9667 - loss: 0.4544 - val_accuracy: 0.9763 - val_loss: 0.4179\n",
            "Epoch 14/50\n",
            "60/60 - 18s - 297ms/step - accuracy: 0.9668 - loss: 0.4527 - val_accuracy: 0.9762 - val_loss: 0.4172\n",
            "Epoch 15/50\n",
            "60/60 - 20s - 340ms/step - accuracy: 0.9666 - loss: 0.4502 - val_accuracy: 0.9726 - val_loss: 0.4235\n",
            "Epoch 16/50\n",
            "60/60 - 20s - 335ms/step - accuracy: 0.9667 - loss: 0.4493 - val_accuracy: 0.9778 - val_loss: 0.4070\n",
            "Epoch 17/50\n",
            "60/60 - 21s - 346ms/step - accuracy: 0.9676 - loss: 0.4442 - val_accuracy: 0.9776 - val_loss: 0.4017\n",
            "Epoch 18/50\n",
            "60/60 - 20s - 333ms/step - accuracy: 0.9683 - loss: 0.4352 - val_accuracy: 0.9767 - val_loss: 0.3980\n",
            "Epoch 19/50\n",
            "60/60 - 21s - 346ms/step - accuracy: 0.9681 - loss: 0.4317 - val_accuracy: 0.9785 - val_loss: 0.3965\n",
            "Epoch 20/50\n",
            "60/60 - 21s - 344ms/step - accuracy: 0.9698 - loss: 0.4275 - val_accuracy: 0.9775 - val_loss: 0.3910\n",
            "Epoch 21/50\n",
            "60/60 - 22s - 365ms/step - accuracy: 0.9706 - loss: 0.4263 - val_accuracy: 0.9792 - val_loss: 0.3909\n",
            "Epoch 22/50\n",
            "60/60 - 27s - 454ms/step - accuracy: 0.9700 - loss: 0.4270 - val_accuracy: 0.9788 - val_loss: 0.3859\n",
            "Epoch 23/50\n",
            "60/60 - 21s - 349ms/step - accuracy: 0.9689 - loss: 0.4252 - val_accuracy: 0.9785 - val_loss: 0.3819\n",
            "Epoch 24/50\n",
            "60/60 - 21s - 348ms/step - accuracy: 0.9714 - loss: 0.4139 - val_accuracy: 0.9787 - val_loss: 0.3764\n",
            "Epoch 25/50\n",
            "60/60 - 20s - 331ms/step - accuracy: 0.9700 - loss: 0.4170 - val_accuracy: 0.9785 - val_loss: 0.3871\n",
            "Epoch 26/50\n",
            "60/60 - 19s - 319ms/step - accuracy: 0.9707 - loss: 0.4147 - val_accuracy: 0.9808 - val_loss: 0.3839\n",
            "Epoch 27/50\n",
            "60/60 - 20s - 325ms/step - accuracy: 0.9694 - loss: 0.4153 - val_accuracy: 0.9770 - val_loss: 0.3858\n",
            "Epoch 28/50\n",
            "60/60 - 19s - 318ms/step - accuracy: 0.9699 - loss: 0.4127 - val_accuracy: 0.9785 - val_loss: 0.3771\n",
            "Epoch 29/50\n",
            "60/60 - 19s - 313ms/step - accuracy: 0.9714 - loss: 0.4054 - val_accuracy: 0.9800 - val_loss: 0.3663\n",
            "Epoch 30/50\n",
            "60/60 - 19s - 315ms/step - accuracy: 0.9707 - loss: 0.4051 - val_accuracy: 0.9773 - val_loss: 0.3775\n",
            "Epoch 31/50\n",
            "60/60 - 18s - 300ms/step - accuracy: 0.9696 - loss: 0.4090 - val_accuracy: 0.9775 - val_loss: 0.3732\n",
            "Epoch 32/50\n",
            "60/60 - 18s - 305ms/step - accuracy: 0.9705 - loss: 0.4040 - val_accuracy: 0.9761 - val_loss: 0.3789\n",
            "Epoch 33/50\n",
            "60/60 - 21s - 347ms/step - accuracy: 0.9704 - loss: 0.4027 - val_accuracy: 0.9786 - val_loss: 0.3699\n",
            "Epoch 34/50\n",
            "60/60 - 20s - 340ms/step - accuracy: 0.9723 - loss: 0.3953 - val_accuracy: 0.9778 - val_loss: 0.3674\n",
            "Epoch 35/50\n",
            "60/60 - 22s - 362ms/step - accuracy: 0.9716 - loss: 0.3955 - val_accuracy: 0.9785 - val_loss: 0.3627\n",
            "Epoch 36/50\n",
            "60/60 - 18s - 304ms/step - accuracy: 0.9717 - loss: 0.3993 - val_accuracy: 0.9799 - val_loss: 0.3646\n",
            "Epoch 37/50\n",
            "60/60 - 20s - 333ms/step - accuracy: 0.9717 - loss: 0.3973 - val_accuracy: 0.9808 - val_loss: 0.3585\n",
            "Epoch 38/50\n",
            "60/60 - 18s - 299ms/step - accuracy: 0.9725 - loss: 0.3905 - val_accuracy: 0.9781 - val_loss: 0.3674\n",
            "Epoch 39/50\n",
            "60/60 - 19s - 324ms/step - accuracy: 0.9722 - loss: 0.3929 - val_accuracy: 0.9797 - val_loss: 0.3521\n",
            "Epoch 40/50\n",
            "60/60 - 19s - 315ms/step - accuracy: 0.9727 - loss: 0.3887 - val_accuracy: 0.9785 - val_loss: 0.3543\n",
            "Epoch 41/50\n",
            "60/60 - 18s - 303ms/step - accuracy: 0.9713 - loss: 0.3936 - val_accuracy: 0.9783 - val_loss: 0.3577\n",
            "Epoch 42/50\n",
            "60/60 - 19s - 319ms/step - accuracy: 0.9713 - loss: 0.3852 - val_accuracy: 0.9794 - val_loss: 0.3522\n",
            "Epoch 43/50\n",
            "60/60 - 18s - 294ms/step - accuracy: 0.9721 - loss: 0.3829 - val_accuracy: 0.9806 - val_loss: 0.3479\n",
            "Epoch 44/50\n",
            "60/60 - 23s - 377ms/step - accuracy: 0.9726 - loss: 0.3801 - val_accuracy: 0.9804 - val_loss: 0.3448\n",
            "Epoch 45/50\n",
            "60/60 - 21s - 356ms/step - accuracy: 0.9731 - loss: 0.3768 - val_accuracy: 0.9800 - val_loss: 0.3440\n",
            "Epoch 46/50\n",
            "60/60 - 20s - 327ms/step - accuracy: 0.9725 - loss: 0.3798 - val_accuracy: 0.9794 - val_loss: 0.3444\n",
            "Epoch 47/50\n",
            "60/60 - 19s - 312ms/step - accuracy: 0.9732 - loss: 0.3745 - val_accuracy: 0.9786 - val_loss: 0.3604\n",
            "Epoch 48/50\n",
            "60/60 - 20s - 331ms/step - accuracy: 0.9718 - loss: 0.3806 - val_accuracy: 0.9801 - val_loss: 0.3451\n",
            "Epoch 49/50\n",
            "60/60 - 19s - 324ms/step - accuracy: 0.9731 - loss: 0.3761 - val_accuracy: 0.9812 - val_loss: 0.3434\n",
            "Epoch 50/50\n",
            "60/60 - 18s - 306ms/step - accuracy: 0.9735 - loss: 0.3687 - val_accuracy: 0.9804 - val_loss: 0.3443\n",
            "Final test accuracy: [0.3442707359790802, 0.980400025844574]\n",
            "60/60 - 16s - 264ms/step - accuracy: 0.6759 - loss: 1.8166 - val_accuracy: 0.9068 - val_loss: 0.6819\n",
            "Epoch 2/50\n",
            "60/60 - 16s - 260ms/step - accuracy: 0.9184 - loss: 0.5850 - val_accuracy: 0.9503 - val_loss: 0.4685\n",
            "Epoch 3/50\n",
            "60/60 - 16s - 259ms/step - accuracy: 0.9403 - loss: 0.4976 - val_accuracy: 0.9625 - val_loss: 0.4315\n",
            "Epoch 4/50\n",
            "60/60 - 14s - 239ms/step - accuracy: 0.9503 - loss: 0.4781 - val_accuracy: 0.9641 - val_loss: 0.4316\n",
            "Epoch 5/50\n",
            "60/60 - 14s - 234ms/step - accuracy: 0.9539 - loss: 0.4766 - val_accuracy: 0.9658 - val_loss: 0.4366\n",
            "Epoch 6/50\n",
            "60/60 - 14s - 234ms/step - accuracy: 0.9569 - loss: 0.4749 - val_accuracy: 0.9695 - val_loss: 0.4349\n",
            "Epoch 7/50\n",
            "60/60 - 15s - 242ms/step - accuracy: 0.9584 - loss: 0.4797 - val_accuracy: 0.9702 - val_loss: 0.4421\n",
            "Epoch 8/50\n",
            "60/60 - 14s - 233ms/step - accuracy: 0.9617 - loss: 0.4779 - val_accuracy: 0.9718 - val_loss: 0.4397\n",
            "Epoch 9/50\n",
            "60/60 - 15s - 254ms/step - accuracy: 0.9614 - loss: 0.4787 - val_accuracy: 0.9718 - val_loss: 0.4417\n",
            "Epoch 10/50\n",
            "60/60 - 14s - 227ms/step - accuracy: 0.9631 - loss: 0.4742 - val_accuracy: 0.9762 - val_loss: 0.4226\n",
            "Epoch 11/50\n",
            "60/60 - 13s - 222ms/step - accuracy: 0.9649 - loss: 0.4663 - val_accuracy: 0.9741 - val_loss: 0.4274\n",
            "Epoch 12/50\n",
            "60/60 - 13s - 224ms/step - accuracy: 0.9650 - loss: 0.4638 - val_accuracy: 0.9762 - val_loss: 0.4202\n",
            "Epoch 13/50\n",
            "60/60 - 15s - 247ms/step - accuracy: 0.9660 - loss: 0.4553 - val_accuracy: 0.9773 - val_loss: 0.4143\n",
            "Epoch 14/50\n",
            "60/60 - 14s - 228ms/step - accuracy: 0.9670 - loss: 0.4511 - val_accuracy: 0.9750 - val_loss: 0.4139\n",
            "Epoch 15/50\n",
            "60/60 - 13s - 221ms/step - accuracy: 0.9678 - loss: 0.4436 - val_accuracy: 0.9763 - val_loss: 0.4037\n",
            "Epoch 16/50\n",
            "60/60 - 14s - 230ms/step - accuracy: 0.9672 - loss: 0.4438 - val_accuracy: 0.9753 - val_loss: 0.4087\n",
            "Epoch 17/50\n",
            "60/60 - 13s - 215ms/step - accuracy: 0.9683 - loss: 0.4368 - val_accuracy: 0.9775 - val_loss: 0.3980\n",
            "Epoch 18/50\n",
            "60/60 - 13s - 218ms/step - accuracy: 0.9684 - loss: 0.4343 - val_accuracy: 0.9768 - val_loss: 0.3982\n",
            "Epoch 19/50\n",
            "60/60 - 14s - 234ms/step - accuracy: 0.9690 - loss: 0.4302 - val_accuracy: 0.9784 - val_loss: 0.3912\n",
            "Epoch 20/50\n",
            "60/60 - 13s - 218ms/step - accuracy: 0.9695 - loss: 0.4217 - val_accuracy: 0.9785 - val_loss: 0.3838\n",
            "Epoch 21/50\n",
            "60/60 - 14s - 236ms/step - accuracy: 0.9680 - loss: 0.4270 - val_accuracy: 0.9757 - val_loss: 0.3965\n",
            "Epoch 22/50\n",
            "60/60 - 15s - 246ms/step - accuracy: 0.9693 - loss: 0.4218 - val_accuracy: 0.9780 - val_loss: 0.3781\n",
            "Epoch 23/50\n",
            "60/60 - 14s - 230ms/step - accuracy: 0.9699 - loss: 0.4176 - val_accuracy: 0.9774 - val_loss: 0.3886\n",
            "Epoch 24/50\n",
            "60/60 - 14s - 238ms/step - accuracy: 0.9696 - loss: 0.4203 - val_accuracy: 0.9770 - val_loss: 0.3825\n",
            "Epoch 25/50\n",
            "60/60 - 15s - 243ms/step - accuracy: 0.9707 - loss: 0.4093 - val_accuracy: 0.9771 - val_loss: 0.3897\n",
            "Epoch 26/50\n",
            "60/60 - 14s - 227ms/step - accuracy: 0.9710 - loss: 0.4105 - val_accuracy: 0.9788 - val_loss: 0.3713\n",
            "Epoch 27/50\n",
            "60/60 - 14s - 234ms/step - accuracy: 0.9715 - loss: 0.4038 - val_accuracy: 0.9798 - val_loss: 0.3687\n",
            "Epoch 28/50\n",
            "60/60 - 16s - 262ms/step - accuracy: 0.9698 - loss: 0.4065 - val_accuracy: 0.9777 - val_loss: 0.3831\n",
            "Epoch 29/50\n",
            "60/60 - 14s - 227ms/step - accuracy: 0.9710 - loss: 0.4047 - val_accuracy: 0.9776 - val_loss: 0.3739\n",
            "Epoch 30/50\n",
            "60/60 - 14s - 235ms/step - accuracy: 0.9712 - loss: 0.4002 - val_accuracy: 0.9783 - val_loss: 0.3750\n",
            "Epoch 31/50\n",
            "60/60 - 15s - 252ms/step - accuracy: 0.9714 - loss: 0.4013 - val_accuracy: 0.9796 - val_loss: 0.3615\n",
            "Epoch 32/50\n",
            "60/60 - 17s - 286ms/step - accuracy: 0.9706 - loss: 0.4000 - val_accuracy: 0.9803 - val_loss: 0.3611\n",
            "Epoch 33/50\n",
            "60/60 - 16s - 261ms/step - accuracy: 0.9717 - loss: 0.3960 - val_accuracy: 0.9788 - val_loss: 0.3645\n",
            "Epoch 34/50\n",
            "60/60 - 16s - 270ms/step - accuracy: 0.9728 - loss: 0.3925 - val_accuracy: 0.9792 - val_loss: 0.3657\n",
            "Epoch 35/50\n",
            "60/60 - 15s - 258ms/step - accuracy: 0.9718 - loss: 0.3931 - val_accuracy: 0.9800 - val_loss: 0.3608\n",
            "Epoch 36/50\n",
            "60/60 - 31s - 518ms/step - accuracy: 0.9709 - loss: 0.3935 - val_accuracy: 0.9798 - val_loss: 0.3602\n",
            "Epoch 37/50\n",
            "60/60 - 28s - 466ms/step - accuracy: 0.9714 - loss: 0.3919 - val_accuracy: 0.9777 - val_loss: 0.3607\n",
            "Epoch 38/50\n",
            "60/60 - 18s - 304ms/step - accuracy: 0.9706 - loss: 0.3910 - val_accuracy: 0.9780 - val_loss: 0.3651\n",
            "Epoch 39/50\n",
            "60/60 - 17s - 276ms/step - accuracy: 0.9724 - loss: 0.3889 - val_accuracy: 0.9786 - val_loss: 0.3628\n",
            "Epoch 40/50\n",
            "60/60 - 17s - 277ms/step - accuracy: 0.9739 - loss: 0.3790 - val_accuracy: 0.9800 - val_loss: 0.3468\n",
            "Epoch 41/50\n",
            "60/60 - 18s - 300ms/step - accuracy: 0.9718 - loss: 0.3838 - val_accuracy: 0.9790 - val_loss: 0.3512\n",
            "Epoch 42/50\n",
            "60/60 - 21s - 348ms/step - accuracy: 0.9730 - loss: 0.3811 - val_accuracy: 0.9816 - val_loss: 0.3468\n",
            "Epoch 43/50\n",
            "60/60 - 17s - 277ms/step - accuracy: 0.9727 - loss: 0.3804 - val_accuracy: 0.9808 - val_loss: 0.3523\n",
            "Epoch 44/50\n",
            "60/60 - 17s - 280ms/step - accuracy: 0.9725 - loss: 0.3774 - val_accuracy: 0.9798 - val_loss: 0.3525\n",
            "Epoch 45/50\n",
            "60/60 - 15s - 255ms/step - accuracy: 0.9721 - loss: 0.3791 - val_accuracy: 0.9799 - val_loss: 0.3494\n",
            "Epoch 46/50\n",
            "60/60 - 16s - 261ms/step - accuracy: 0.9731 - loss: 0.3776 - val_accuracy: 0.9766 - val_loss: 0.3554\n",
            "Epoch 47/50\n",
            "60/60 - 22s - 360ms/step - accuracy: 0.9731 - loss: 0.3732 - val_accuracy: 0.9799 - val_loss: 0.3440\n",
            "Epoch 48/50\n",
            "60/60 - 20s - 336ms/step - accuracy: 0.9727 - loss: 0.3750 - val_accuracy: 0.9813 - val_loss: 0.3400\n",
            "Epoch 49/50\n",
            "60/60 - 19s - 316ms/step - accuracy: 0.9728 - loss: 0.3712 - val_accuracy: 0.9773 - val_loss: 0.3576\n",
            "Epoch 50/50\n",
            "60/60 - 18s - 308ms/step - accuracy: 0.9728 - loss: 0.3730 - val_accuracy: 0.9819 - val_loss: 0.3326\n",
            "Final test accuracy: [0.3326345384120941, 0.9818999767303467]\n"
          ]
        }
      ],
      "source": [
        "model_EDL = LeNet_EDL()\n",
        "\n",
        "# Compile with custom EDL loss\n",
        "loss_fn = EDLLoss(annealing_step=10*(len(x_train)//1000))\n",
        "model_EDL.compile(optimizer=tf.keras.optimizers.Adam(), loss=loss_fn, metrics=['accuracy'])\n",
        "\n",
        "# Train\n",
        "logger = EDLLogger(x_train, y_train, x_test, y_test)\n",
        "history = model_EDL.fit(\n",
        "    x_train, y_train,\n",
        "    batch_size=1000,\n",
        "    epochs=50,\n",
        "    validation_data=(x_test, y_test),\n",
        "    callbacks=[logger],\n",
        "    verbose=2\n",
        ")\n",
        "\n",
        "# Evaluate\n",
        "print(\"Final test accuracy:\", model_EDL.evaluate(x_test, y_test, verbose=0))"
      ]
    },
    {
      "cell_type": "code",
      "execution_count": 18,
      "metadata": {
        "collapsed": true,
        "id": "m5AN3-Bp5eTa"
      },
      "outputs": [],
      "source": [
        "def draw_EDL_results(train_acc1, train_ev_s, train_ev_f, test_acc1, test_ev_s, test_ev_f, K=10):\n",
        "    # calculate uncertainty\n",
        "    train_u_succ = K / (K + np.array(train_ev_s))\n",
        "    train_u_fail = K / (K + np.array(train_ev_f))\n",
        "    test_u_succ  = K / (K + np.array(test_ev_s))\n",
        "    test_u_fail  = K / (K + np.array(test_ev_f))\n",
        "\n",
        "    fig, axs = plt.subplots(2, 2, figsize=(10,10))\n",
        "\n",
        "    # Train evidence\n",
        "    axs[0,0].plot(train_ev_s, c='r', marker='+')\n",
        "    axs[0,0].plot(train_ev_f, c='k', marker='x')\n",
        "    axs[0,0].set_title('Train Data')\n",
        "    axs[0,0].set_xlabel('Epoch')\n",
        "    axs[0,0].set_ylabel('Estimated total evidence')\n",
        "    axs[0,0].legend(['Correct', 'Misclassified'])\n",
        "\n",
        "    # Train uncertainty\n",
        "    axs[0,1].plot(train_u_succ, c='r', marker='+')\n",
        "    axs[0,1].plot(train_u_fail, c='k', marker='x')\n",
        "    axs[0,1].plot(train_acc1, c='blue', marker='*')\n",
        "    axs[0,1].set_title('Train Data')\n",
        "    axs[0,1].set_xlabel('Epoch')\n",
        "    axs[0,1].set_ylabel('Uncertainty')\n",
        "    axs[0,1].legend(['Correct', 'Misclassified', 'Accuracy'])\n",
        "\n",
        "    # Test evidence\n",
        "    axs[1,0].plot(test_ev_s, c='r', marker='+')\n",
        "    axs[1,0].plot(test_ev_f, c='k', marker='x')\n",
        "    axs[1,0].set_title('Test Data')\n",
        "    axs[1,0].set_xlabel('Epoch')\n",
        "    axs[1,0].set_ylabel('Estimated total evidence')\n",
        "    axs[1,0].legend(['Correct', 'Misclassified'])\n",
        "\n",
        "    # Test uncertainty\n",
        "    axs[1,1].plot(test_u_succ, c='r', marker='+')\n",
        "    axs[1,1].plot(test_u_fail, c='k', marker='x')\n",
        "    axs[1,1].plot(test_acc1, c='blue', marker='*')\n",
        "    axs[1,1].set_title('Test Data')\n",
        "    axs[1,1].set_xlabel('Epoch')\n",
        "    axs[1,1].set_ylabel('Uncertainty')\n",
        "    axs[1,1].legend(['Correct', 'Misclassified', 'Accuracy'])\n",
        "\n",
        "    plt.show()\n"
      ]
    },
    {
      "cell_type": "code",
      "execution_count": 19,
      "metadata": {
        "colab": {
          "base_uri": "https://localhost:8080/",
          "height": 872
        },
        "id": "i-AzNzc6-oXA",
        "outputId": "00739366-ba9b-4233-9c31-96ba0273e61f"
      },
      "outputs": [
        {
          "data": {
            "image/png": "[encoded data removed]",
            "text/plain": [
              "<Figure size 1000x1000 with 4 Axes>"
            ]
          },
          "metadata": {},
          "output_type": "display_data"
        }
      ],
      "source": [
        "draw_EDL_results(\n",
        "    logger.train_acc1,\n",
        "    logger.train_ev_s,\n",
        "    logger.train_ev_f,\n",
        "    logger.test_acc1,\n",
        "    logger.test_ev_s,\n",
        "    logger.test_ev_f,\n",
        "    K=10\n",
        ")"
      ]
    },
    {
      "cell_type": "code",
      "execution_count": 20,
      "metadata": {
        "colab": {
          "base_uri": "https://localhost:8080/",
          "height": 494
        },
        "id": "4GL_ZgB1-zLN",
        "outputId": "5f5db270-cb8f-42a6-9030-3763acd02553"
      },
      "outputs": [
        {
          "data": {
            "image/png": "[encoded data removed]",
            "text/plain": [
              "<Figure size 640x480 with 1 Axes>"
            ]
          },
          "metadata": {},
          "output_type": "display_data"
        },
        {
          "data": {
            "image/png": "[encoded data removed]",
            "text/plain": [
              "<Figure size 620x1000 with 1 Axes>"
            ]
          },
          "metadata": {},
          "output_type": "display_data"
        }
      ],
      "source": [
        "rotating_image_classification(digit_one, model_EDL, is_edl=True)"
      ]
    },
    {
      "cell_type": "markdown",
      "metadata": {
        "id": "SHYZmFLE5eTa"
      },
      "source": [
        "The following function plots average total evidence and prediction uncertainty in addition to accuracy for the training and test sets. Let us note that uncertainty approaches to 1.0 as the total evidence approaches to 0."
      ]
    },
    {
      "cell_type": "markdown",
      "metadata": {
        "id": "AaPMeB2q5eTa"
      },
      "source": [
        "The figure above indicates that the proposed approach generates much smaller amount of evidence for the misclassified samples than the correctly classified ones. The uncertainty of the misclassified samples are around 0.8, while it is around 0.1 for the correctly classified ones, both for training and testing sets. This means that the neural network is very uncertain for the misclassified samples and provides certain predictions only for the correctly classified ones. In other words, the neural network also predicts when it fails by assigning high uncertainty to its wrong predictions."
      ]
    },
    {
      "cell_type": "markdown",
      "metadata": {
        "id": "L7mGMqY7-9zI"
      },
      "source": [
        "# SNN"
      ]
    },
    {
      "cell_type": "code",
      "execution_count": 26,
      "metadata": {
        "id": "VIOBMX7a_Cek"
      },
      "outputs": [],
      "source": [
        "\n",
        "from tensorflow.keras import layers\n",
        "\n",
        "K = 10  # number of classes\n",
        "\n",
        "# -------------------------------\n",
        "# Custom Bayesian Dense Layer\n",
        "# -------------------------------\n",
        "class BayesianDense(layers.Layer):\n",
        "    def __init__(self, units, temperature=0.05, **kwargs):\n",
        "        super().__init__(**kwargs)\n",
        "        self.units = units\n",
        "        self.temperature = temperature\n",
        "\n",
        "    def sample_p(self):\n",
        "        \"\"\"Sample p ~ Kumaraswamy(softplus(alpha), softplus(beta))\"\"\"\n",
        "        alpha_sp = tf.nn.softplus(self.alpha)\n",
        "        beta_sp = tf.nn.softplus(self.beta)\n",
        "        u = tf.random.uniform(tf.shape(alpha_sp), 1e-7, 1-1e-7)\n",
        "        return 1.0 - (1.0 - u ** (1.0 / beta_sp)) ** (1.0 / alpha_sp)\n",
        "\n",
        "    def apply_mask(self, inputs, p, temperature=0.05):\n",
        "        \"\"\"Apply mask sampled from Concrete(p) to W\"\"\"\n",
        "        u2 = tf.random.uniform(tf.shape(p), 1e-7, 1-1e-7)\n",
        "        gumbel = -tf.math.log(-tf.math.log(u2))\n",
        "        logit = tf.math.log(p + 1e-7) - tf.math.log(1.0 - p + 1e-7)\n",
        "        mask = tf.nn.sigmoid((logit + gumbel) / temperature)\n",
        "        W_eff = self.W_val * mask\n",
        "        return tf.matmul(inputs, W_eff) + self.b\n",
        "    \n",
        "    def build(self, input_shape):\n",
        "        in_dim = input_shape[-1]\n",
        "        self.W_val = self.add_weight(shape=(in_dim, self.units),\n",
        "                                     initializer=\"random_normal\",\n",
        "                                     trainable=True)\n",
        "        self.b = self.add_weight(shape=(self.units,),\n",
        "                                 initializer=\"zeros\",\n",
        "                                 trainable=True)\n",
        "        self.alpha = self.add_weight(shape=(in_dim, self.units),\n",
        "                                     initializer=tf.keras.initializers.Constant(-1.0),\n",
        "                                     trainable=True)\n",
        "        self.beta = self.add_weight(shape=(in_dim, self.units),\n",
        "                                    initializer=tf.keras.initializers.Constant(-1.0),\n",
        "                                    trainable=True)\n",
        "\n",
        "    def call(self, inputs, training=None):\n",
        "        # Kumaraswamy sampling\n",
        "        u = tf.random.uniform(tf.shape(self.alpha), minval=1e-7, maxval=1-1e-7)\n",
        "        p = 1.0 - (1.0 - u**(1.0/tf.nn.softplus(self.beta)))**(1.0/tf.nn.softplus(self.alpha))\n",
        "\n",
        "        # Concrete mask\n",
        "        u2 = tf.random.uniform(tf.shape(p), minval=1e-7, maxval=1-1e-7)\n",
        "        gumbel = -tf.math.log(-tf.math.log(u2))\n",
        "        logit = tf.math.log(p + 1e-7) - tf.math.log(1.0 - p + 1e-7)\n",
        "        mask = tf.nn.sigmoid((logit + gumbel) / self.temperature)\n",
        "\n",
        "        W_eff = self.W_val * mask\n",
        "        return tf.matmul(inputs, W_eff) + self.b\n",
        "\n",
        "class BayesianConv2D(layers.Layer):\n",
        "    def __init__(self, filters, kernel_size, strides=(1,1), padding=\"same\", temperature=0.05, **kwargs):\n",
        "        super().__init__(**kwargs)\n",
        "        self.filters = filters\n",
        "        self.kernel_size = kernel_size if isinstance(kernel_size, tuple) else (kernel_size, kernel_size)\n",
        "        self.strides = strides\n",
        "        self.padding = padding.upper()\n",
        "        self.temperature = temperature\n",
        "\n",
        "    def sample_p(self):\n",
        "        alpha_sp = tf.nn.softplus(self.alpha)\n",
        "        beta_sp = tf.nn.softplus(self.beta)\n",
        "        u = tf.random.uniform(tf.shape(alpha_sp), 1e-7, 1-1e-7)\n",
        "        return 1.0 - (1.0 - u ** (1.0 / beta_sp)) ** (1.0 / alpha_sp)\n",
        "\n",
        "    def apply_mask(self, inputs, p, temperature=0.05):\n",
        "        u2 = tf.random.uniform(tf.shape(p), 1e-7, 1-1e-7)\n",
        "        gumbel = -tf.math.log(-tf.math.log(u2))\n",
        "        logit = tf.math.log(p + 1e-7) - tf.math.log(1.0 - p + 1e-7)\n",
        "        mask = tf.nn.sigmoid((logit + gumbel) / temperature)\n",
        "        W_eff = self.W_val * mask\n",
        "        out = tf.nn.conv2d(inputs, W_eff, strides=[1, *self.strides, 1], padding=self.padding)\n",
        "        return tf.nn.bias_add(out, self.b)\n",
        "    \n",
        "    def build(self, input_shape):\n",
        "        in_channels = input_shape[-1]\n",
        "\n",
        "        # Convolutional kernel parameters\n",
        "        self.W_val = self.add_weight(\n",
        "            shape=(*self.kernel_size, in_channels, self.filters),\n",
        "            initializer=\"random_normal\",\n",
        "            trainable=True,\n",
        "            name=\"W_val\"\n",
        "        )\n",
        "        self.b = self.add_weight(\n",
        "            shape=(self.filters,),\n",
        "            initializer=\"zeros\",\n",
        "            trainable=True,\n",
        "            name=\"b\"\n",
        "        )\n",
        "\n",
        "        # Variational parameters for Bayesian masking\n",
        "        self.alpha = self.add_weight(\n",
        "            shape=(*self.kernel_size, in_channels, self.filters),\n",
        "            initializer=tf.keras.initializers.Constant(-1.0),\n",
        "            trainable=True,\n",
        "            name=\"alpha\"\n",
        "        )\n",
        "        self.beta = self.add_weight(\n",
        "            shape=(*self.kernel_size, in_channels, self.filters),\n",
        "            initializer=tf.keras.initializers.Constant(-1.0),\n",
        "            trainable=True,\n",
        "            name=\"beta\"\n",
        "        )\n",
        "\n",
        "    def call(self, inputs, training=None):\n",
        "        # Kumaraswamy sample\n",
        "        u = tf.random.uniform(tf.shape(self.alpha), minval=1e-7, maxval=1-1e-7)\n",
        "        p = 1.0 - (1.0 - u**(1.0/tf.nn.softplus(self.beta)))**(1.0/tf.nn.softplus(self.alpha))\n",
        "\n",
        "        # Concrete mask\n",
        "        u2 = tf.random.uniform(tf.shape(p), minval=1e-7, maxval=1-1e-7)\n",
        "        gumbel = -tf.math.log(-tf.math.log(u2))\n",
        "        logit = tf.math.log(p + 1e-7) - tf.math.log(1.0 - p + 1e-7)\n",
        "        mask = tf.nn.sigmoid((logit + gumbel) / self.temperature)\n",
        "\n",
        "        # Effective kernel\n",
        "        W_eff = self.W_val * mask\n",
        "\n",
        "        # Convolution operation\n",
        "        out = tf.nn.conv2d(inputs, W_eff, strides=[1, *self.strides, 1], padding=self.padding)\n",
        "        out = tf.nn.bias_add(out, self.b)\n",
        "        return out\n",
        "\n",
        "# -------------------------------\n",
        "# KL divergence for Beta prior\n",
        "# -------------------------------\n",
        "def kl_beta(alpha_q, beta_q, alpha_p=1.0, beta_p=1.0):\n",
        "    term1 = tf.math.lgamma(alpha_p) + tf.math.lgamma(beta_p) - tf.math.lgamma(alpha_p+beta_p)\n",
        "    term1 -= (tf.math.lgamma(alpha_q) + tf.math.lgamma(beta_q) - tf.math.lgamma(alpha_q+beta_q))\n",
        "    term2 = (alpha_q - alpha_p) * tf.math.digamma(alpha_q)\n",
        "    term3 = (beta_q - beta_p) * tf.math.digamma(beta_q)\n",
        "    term4 = (alpha_p + beta_p - alpha_q - beta_q) * tf.math.digamma(alpha_q+beta_q)\n",
        "    return term1 + term2 + term3 + term4\n",
        "\n",
        "# -------------------------------\n",
        "# Bayesian LeNet in Keras\n",
        "# -------------------------------\n",
        "def BayesianLeNet(num_classes=10):\n",
        "    inputs = tf.keras.Input(shape=(784,))\n",
        "    x = layers.Reshape((28, 28, 1))(inputs)\n",
        "\n",
        "    # Bayesian conv layers\n",
        "    x = BayesianConv2D(20, 5, padding=\"same\")(x)\n",
        "    x = layers.Activation(\"relu\")(x)\n",
        "    x = layers.MaxPooling2D()(x)\n",
        "\n",
        "    x = BayesianConv2D(50, 5, padding=\"valid\")(x)\n",
        "    x = layers.Activation(\"relu\")(x)\n",
        "    x = layers.MaxPooling2D()(x)\n",
        "\n",
        "    # Flatten\n",
        "    x = layers.Flatten()(x)\n",
        "\n",
        "    # Bayesian dense layers\n",
        "    x = BayesianDense(500)(x)\n",
        "    x = layers.Activation(\"relu\")(x)\n",
        "\n",
        "    outputs = BayesianDense(num_classes)(x)\n",
        "\n",
        "    return tf.keras.Model(inputs, outputs)\n",
        "\n",
        "\n",
        "\n",
        "# -------------------------------\n",
        "# Custom loss: ELBO\n",
        "# -------------------------------\n",
        "class ELBOLoss(tf.keras.losses.Loss):\n",
        "    def __init__(self, lmb=1e-3, **kwargs):\n",
        "        super().__init__(**kwargs)\n",
        "        self.lmb = lmb\n",
        "\n",
        "    def call(self, y_true, logits):\n",
        "        ce = tf.nn.softmax_cross_entropy_with_logits(labels=y_true, logits=logits)\n",
        "        likelihood = tf.reduce_mean(ce)\n",
        "        kl = 0.0\n",
        "        return likelihood + self.lmb * kl\n",
        "\n"
      ]
    },
    {
      "cell_type": "code",
      "execution_count": 30,
      "metadata": {
        "colab": {
          "base_uri": "https://localhost:8080/"
        },
        "id": "9TYaxMtoAkTD",
        "outputId": "f76a45fa-2d3b-4149-b3c7-eb444aa9da68"
      },
      "outputs": [
        {
          "name": "stdout",
          "output_type": "stream",
          "text": [
            "WARNING:tensorflow:From c:\\ProgramData\\miniconda3\\envs\\snn\\Lib\\site-packages\\keras\\src\\backend\\tensorflow\\core.py:232: The name tf.placeholder is deprecated. Please use tf.compat.v1.placeholder instead.\n",
            "\n",
            "Epoch 1/50\n",
            "60/60 - 22s - 366ms/step - accuracy: 0.3211 - loss: 2.0054 - val_accuracy: 0.5808 - val_loss: 1.2603\n",
            "Epoch 2/50\n",
            "60/60 - 15s - 255ms/step - accuracy: 0.6702 - loss: 0.9568 - val_accuracy: 0.7841 - val_loss: 0.6724\n",
            "Epoch 3/50\n",
            "60/60 - 17s - 280ms/step - accuracy: 0.7931 - loss: 0.6216 - val_accuracy: 0.8458 - val_loss: 0.4833\n",
            "Epoch 4/50\n",
            "60/60 - 17s - 281ms/step - accuracy: 0.8538 - loss: 0.4603 - val_accuracy: 0.8774 - val_loss: 0.3859\n",
            "Epoch 5/50\n",
            "60/60 - 16s - 265ms/step - accuracy: 0.8829 - loss: 0.3774 - val_accuracy: 0.8953 - val_loss: 0.3346\n",
            "Epoch 6/50\n",
            "60/60 - 16s - 265ms/step - accuracy: 0.8993 - loss: 0.3185 - val_accuracy: 0.9026 - val_loss: 0.3015\n",
            "Epoch 7/50\n",
            "60/60 - 17s - 285ms/step - accuracy: 0.9180 - loss: 0.2659 - val_accuracy: 0.9279 - val_loss: 0.2447\n",
            "Epoch 8/50\n",
            "60/60 - 17s - 277ms/step - accuracy: 0.9224 - loss: 0.2471 - val_accuracy: 0.9384 - val_loss: 0.2001\n",
            "Epoch 9/50\n",
            "60/60 - 18s - 293ms/step - accuracy: 0.9347 - loss: 0.2100 - val_accuracy: 0.9452 - val_loss: 0.1800\n",
            "Epoch 10/50\n",
            "60/60 - 17s - 278ms/step - accuracy: 0.9411 - loss: 0.1899 - val_accuracy: 0.9386 - val_loss: 0.1891\n",
            "Epoch 11/50\n",
            "60/60 - 19s - 319ms/step - accuracy: 0.9431 - loss: 0.1806 - val_accuracy: 0.9475 - val_loss: 0.1650\n",
            "Epoch 12/50\n",
            "60/60 - 20s - 329ms/step - accuracy: 0.9487 - loss: 0.1683 - val_accuracy: 0.9511 - val_loss: 0.1588\n",
            "Epoch 13/50\n",
            "60/60 - 19s - 314ms/step - accuracy: 0.9524 - loss: 0.1515 - val_accuracy: 0.9509 - val_loss: 0.1501\n",
            "Epoch 14/50\n",
            "60/60 - 16s - 269ms/step - accuracy: 0.9571 - loss: 0.1392 - val_accuracy: 0.9579 - val_loss: 0.1322\n",
            "Epoch 15/50\n",
            "60/60 - 15s - 249ms/step - accuracy: 0.9572 - loss: 0.1372 - val_accuracy: 0.9636 - val_loss: 0.1117\n",
            "Epoch 16/50\n",
            "60/60 - 15s - 250ms/step - accuracy: 0.9593 - loss: 0.1298 - val_accuracy: 0.9662 - val_loss: 0.1074\n",
            "Epoch 17/50\n",
            "60/60 - 16s - 259ms/step - accuracy: 0.9627 - loss: 0.1211 - val_accuracy: 0.9636 - val_loss: 0.1068\n",
            "Epoch 18/50\n",
            "60/60 - 18s - 292ms/step - accuracy: 0.9606 - loss: 0.1231 - val_accuracy: 0.9688 - val_loss: 0.0959\n",
            "Epoch 19/50\n",
            "60/60 - 16s - 265ms/step - accuracy: 0.9661 - loss: 0.1091 - val_accuracy: 0.9703 - val_loss: 0.0960\n",
            "Epoch 20/50\n",
            "60/60 - 14s - 235ms/step - accuracy: 0.9659 - loss: 0.1105 - val_accuracy: 0.9682 - val_loss: 0.0949\n",
            "Epoch 21/50\n",
            "60/60 - 15s - 244ms/step - accuracy: 0.9675 - loss: 0.1035 - val_accuracy: 0.9657 - val_loss: 0.1050\n",
            "Epoch 22/50\n",
            "60/60 - 15s - 252ms/step - accuracy: 0.9676 - loss: 0.1042 - val_accuracy: 0.9727 - val_loss: 0.0838\n",
            "Epoch 23/50\n",
            "60/60 - 16s - 259ms/step - accuracy: 0.9679 - loss: 0.1012 - val_accuracy: 0.9723 - val_loss: 0.0841\n",
            "Epoch 24/50\n",
            "60/60 - 14s - 236ms/step - accuracy: 0.9697 - loss: 0.0945 - val_accuracy: 0.9712 - val_loss: 0.0940\n",
            "Epoch 25/50\n",
            "60/60 - 15s - 242ms/step - accuracy: 0.9718 - loss: 0.0894 - val_accuracy: 0.9717 - val_loss: 0.0869\n",
            "Epoch 26/50\n",
            "60/60 - 14s - 239ms/step - accuracy: 0.9721 - loss: 0.0922 - val_accuracy: 0.9716 - val_loss: 0.0830\n",
            "Epoch 27/50\n",
            "60/60 - 14s - 236ms/step - accuracy: 0.9736 - loss: 0.0843 - val_accuracy: 0.9772 - val_loss: 0.0722\n",
            "Epoch 28/50\n",
            "60/60 - 14s - 239ms/step - accuracy: 0.9744 - loss: 0.0821 - val_accuracy: 0.9760 - val_loss: 0.0753\n",
            "Epoch 29/50\n",
            "60/60 - 14s - 234ms/step - accuracy: 0.9752 - loss: 0.0778 - val_accuracy: 0.9761 - val_loss: 0.0683\n",
            "Epoch 30/50\n",
            "60/60 - 14s - 234ms/step - accuracy: 0.9744 - loss: 0.0820 - val_accuracy: 0.9740 - val_loss: 0.0749\n",
            "Epoch 31/50\n",
            "60/60 - 14s - 237ms/step - accuracy: 0.9763 - loss: 0.0749 - val_accuracy: 0.9736 - val_loss: 0.0833\n",
            "Epoch 32/50\n",
            "60/60 - 14s - 234ms/step - accuracy: 0.9766 - loss: 0.0748 - val_accuracy: 0.9779 - val_loss: 0.0686\n",
            "Epoch 33/50\n",
            "60/60 - 14s - 236ms/step - accuracy: 0.9773 - loss: 0.0711 - val_accuracy: 0.9823 - val_loss: 0.0566\n",
            "Epoch 34/50\n",
            "60/60 - 14s - 236ms/step - accuracy: 0.9776 - loss: 0.0718 - val_accuracy: 0.9765 - val_loss: 0.0688\n",
            "Epoch 35/50\n",
            "60/60 - 14s - 238ms/step - accuracy: 0.9779 - loss: 0.0702 - val_accuracy: 0.9805 - val_loss: 0.0617\n",
            "Epoch 36/50\n",
            "60/60 - 14s - 230ms/step - accuracy: 0.9780 - loss: 0.0695 - val_accuracy: 0.9796 - val_loss: 0.0647\n",
            "Epoch 37/50\n",
            "60/60 - 15s - 244ms/step - accuracy: 0.9790 - loss: 0.0658 - val_accuracy: 0.9782 - val_loss: 0.0629\n",
            "Epoch 38/50\n",
            "60/60 - 14s - 240ms/step - accuracy: 0.9798 - loss: 0.0653 - val_accuracy: 0.9804 - val_loss: 0.0601\n",
            "Epoch 39/50\n",
            "60/60 - 15s - 242ms/step - accuracy: 0.9793 - loss: 0.0641 - val_accuracy: 0.9817 - val_loss: 0.0552\n",
            "Epoch 40/50\n",
            "60/60 - 14s - 236ms/step - accuracy: 0.9809 - loss: 0.0619 - val_accuracy: 0.9820 - val_loss: 0.0543\n",
            "Epoch 41/50\n",
            "60/60 - 14s - 236ms/step - accuracy: 0.9818 - loss: 0.0586 - val_accuracy: 0.9802 - val_loss: 0.0549\n",
            "Epoch 42/50\n",
            "60/60 - 14s - 230ms/step - accuracy: 0.9816 - loss: 0.0573 - val_accuracy: 0.9821 - val_loss: 0.0528\n",
            "Epoch 43/50\n",
            "60/60 - 15s - 249ms/step - accuracy: 0.9820 - loss: 0.0572 - val_accuracy: 0.9847 - val_loss: 0.0468\n",
            "Epoch 44/50\n",
            "60/60 - 14s - 234ms/step - accuracy: 0.9823 - loss: 0.0558 - val_accuracy: 0.9820 - val_loss: 0.0547\n",
            "Epoch 45/50\n",
            "60/60 - 14s - 232ms/step - accuracy: 0.9830 - loss: 0.0534 - val_accuracy: 0.9826 - val_loss: 0.0551\n",
            "Epoch 46/50\n",
            "60/60 - 14s - 233ms/step - accuracy: 0.9827 - loss: 0.0542 - val_accuracy: 0.9842 - val_loss: 0.0561\n",
            "Epoch 47/50\n",
            "60/60 - 14s - 234ms/step - accuracy: 0.9835 - loss: 0.0527 - val_accuracy: 0.9842 - val_loss: 0.0493\n",
            "Epoch 48/50\n",
            "60/60 - 14s - 235ms/step - accuracy: 0.9835 - loss: 0.0519 - val_accuracy: 0.9842 - val_loss: 0.0441\n",
            "Epoch 49/50\n",
            "60/60 - 14s - 236ms/step - accuracy: 0.9836 - loss: 0.0517 - val_accuracy: 0.9838 - val_loss: 0.0500\n",
            "Epoch 50/50\n",
            "60/60 - 14s - 233ms/step - accuracy: 0.9847 - loss: 0.0488 - val_accuracy: 0.9841 - val_loss: 0.0492\n",
            "Final training accuracy: 0.9847 \t testing accuracy: 0.9828\n",
            "Epoch 1/5\n",
            "60/60 - 11s - 178ms/step - accuracy: 0.3517 - loss: 1.9461 - val_accuracy: 0.5842 - val_loss: 1.1650\n",
            "Epoch 2/5\n",
            "60/60 - 12s - 198ms/step - accuracy: 0.6732 - loss: 0.9696 - val_accuracy: 0.7398 - val_loss: 0.7644\n",
            "Epoch 3/5\n",
            "60/60 - 12s - 205ms/step - accuracy: 0.7754 - loss: 0.6674 - val_accuracy: 0.8338 - val_loss: 0.5111\n",
            "Epoch 4/5\n",
            "60/60 - 12s - 206ms/step - accuracy: 0.8422 - loss: 0.4914 - val_accuracy: 0.8746 - val_loss: 0.4074\n",
            "Epoch 5/5\n",
            "60/60 - 16s - 270ms/step - accuracy: 0.8676 - loss: 0.4142 - val_accuracy: 0.8887 - val_loss: 0.3500\n",
            "Final training accuracy: 0.8882 \t testing accuracy: 0.8992\n"
          ]
        }
      ],
      "source": [
        "model_snn = BayesianLeNet()\n",
        "\n",
        "# Compile with custom ELBO loss\n",
        "model_snn.compile(\n",
        "    optimizer=tf.keras.optimizers.Adam(),\n",
        "    loss=ELBOLoss(),\n",
        "    metrics=[\"accuracy\"]\n",
        ")\n",
        "\n",
        "# Train\n",
        "history = model_snn.fit(\n",
        "    x_train, y_train,\n",
        "    batch_size=1000,\n",
        "    epochs=50,\n",
        "    validation_data=(x_test, y_test),\n",
        "    verbose=2\n",
        ")\n",
        "\n",
        "# Evaluate\n",
        "train_loss, train_acc = model_snn.evaluate(x_train, y_train, verbose=0)\n",
        "test_loss, test_acc = model_snn.evaluate(x_test, y_test, verbose=0)\n",
        "print(f\"Final training accuracy: {train_acc:.4f} \\t testing accuracy: {test_acc:.4f}\")\n"
      ]
    },
    {
      "cell_type": "code",
      "execution_count": 23,
      "metadata": {
        "colab": {
          "base_uri": "https://localhost:8080/",
          "height": 494
        },
        "id": "2fQPxEkWCR00",
        "outputId": "a3980f7e-c6ae-4eb5-ddfb-ac902b143fc9"
      },
      "outputs": [
        {
          "data": {
            "image/png": "[encoded data removed]",
            "text/plain": [
              "<Figure size 640x480 with 1 Axes>"
            ]
          },
          "metadata": {},
          "output_type": "display_data"
        },
        {
          "data": {
            "image/png": "[encoded data removed]",
            "text/plain": [
              "<Figure size 620x1000 with 1 Axes>"
            ]
          },
          "metadata": {},
          "output_type": "display_data"
        }
      ],
      "source": [
        "rotating_image_classification(digit_one, model_snn, is_snn=True)"
      ]
    },
    {
      "cell_type": "code",
      "execution_count": 105,
      "metadata": {},
      "outputs": [],
      "source": [
        "def predict_nested_samples_with_raw(model, x, n_p=15, n_mask=15, temperature=0.05):\n",
        "    \"\"\"\n",
        "    Nested sampling with fixed p but multiple mask resamples.\n",
        "    \"\"\"\n",
        "    batch_size = int(tf.shape(x)[0])\n",
        "    results = [[] for _ in range(batch_size)]\n",
        "\n",
        "    for _ in range(n_p):\n",
        "        # === Sample p once per layer ===\n",
        "        p1 = model.layers[2].sample_p()   # first BayesianConv2D\n",
        "        p2 = model.layers[5].sample_p()   # second BayesianConv2D\n",
        "        p3 = model.layers[9].sample_p()   # first BayesianDense\n",
        "        p4 = model.layers[11].sample_p()  # output BayesianDense\n",
        "\n",
        "        preds_mask = []\n",
        "        for _ in range(n_mask):\n",
        "            # Forward pass with fixed p but new masks\n",
        "            h1 = model.layers[2].apply_mask(tf.reshape(x, [-1, 28, 28, 1]), p=p1, temperature=temperature)\n",
        "            h1 = tf.nn.relu(h1)\n",
        "            h1 = tf.nn.max_pool2d(h1, ksize=2, strides=2, padding=\"VALID\")\n",
        "\n",
        "            h2 = model.layers[5].apply_mask(h1, p=p2, temperature=temperature)\n",
        "            h2 = tf.nn.relu(h2)\n",
        "            h2 = tf.nn.max_pool2d(h2, ksize=2, strides=2, padding=\"VALID\")\n",
        "\n",
        "            h2_flat = tf.reshape(h2, [tf.shape(h2)[0], -1])\n",
        "            h3 = model.layers[9].apply_mask(h2_flat, p=p3, temperature=temperature)\n",
        "            h3 = tf.nn.relu(h3)\n",
        "\n",
        "            logits = model.layers[11].apply_mask(h3, p=p4, temperature=temperature)\n",
        "            probs = tf.nn.softmax(logits, axis=-1)\n",
        "\n",
        "            preds_mask.append(probs)\n",
        "\n",
        "        preds_mask = tf.stack(preds_mask, axis=0)   # [n_mask, batch, num_classes]\n",
        "        avg_pred = tf.reduce_mean(preds_mask, axis=0)\n",
        "\n",
        "        for i in range(batch_size):\n",
        "            results[i].append((avg_pred[i], preds_mask[:, i]))\n",
        "\n",
        "    # format like PyTorch version\n",
        "    final_output = []\n",
        "    for sample_results in results:\n",
        "        avg_list, raw_list = zip(*sample_results)\n",
        "        avg_tensor = tf.stack(avg_list, axis=0)   # [n_p, num_classes]\n",
        "        raw_tensor = tf.reshape(tf.stack(raw_list, axis=0), [n_p * n_mask, -1])\n",
        "        final_output.append((avg_tensor, raw_tensor))\n",
        "\n",
        "    return final_output\n",
        "\n",
        "def predict_nested_samples_op(model, x, n_p=10, n_mask=10, temperature=0.05):\n",
        "    pred = predict_nested_samples_with_raw(model, x)\n",
        "    res = []\n",
        "    for i in range(len(pred)):\n",
        "        res.append(MultinomialOpinion.from_list_prob(pred[i]))\n",
        "    return pred \n"
      ]
    },
    {
      "cell_type": "code",
      "execution_count": 59,
      "metadata": {},
      "outputs": [],
      "source": [
        "def load_notmnist(batch_size=128):\n",
        "    data_dir = \"./data/notMNIST\"  # should contain subfolders A-J\n",
        "\n",
        "    if not os.path.exists(data_dir):\n",
        "        raise RuntimeError(\"Download notMNIST_small manually and unzip it under ./data/notMNIST\")\n",
        "\n",
        "    # Load dataset from directory (expects subfolders as class labels)\n",
        "    ds = tf.keras.utils.image_dataset_from_directory(\n",
        "        data_dir,\n",
        "        labels=\"inferred\",\n",
        "        label_mode=\"int\",  # integers 0–9 for A–J\n",
        "        color_mode=\"grayscale\",\n",
        "        batch_size=batch_size,\n",
        "        image_size=(28, 28),   # resize automatically\n",
        "        shuffle=False\n",
        "    )\n",
        "    \n",
        "    # Normalize + flatten\n",
        "    def preprocess(image, label):\n",
        "        image = tf.cast(image, tf.float32) / 255.0\n",
        "        image = tf.reshape(image, [-1, 784])  # flatten to 784\n",
        "        return image, label\n",
        "\n",
        "    ds = ds.map(preprocess)\n",
        "\n",
        "    # Collect all data into memory\n",
        "    X = []\n",
        "    y = []\n",
        "    for images, labels in ds:\n",
        "        X.append(images)\n",
        "        y.append(labels)\n",
        "\n",
        "    X = tf.concat(X, axis=0)\n",
        "    y = tf.concat(y, axis=0)\n",
        "\n",
        "    return X, y\n"
      ]
    },
    {
      "cell_type": "code",
      "execution_count": 51,
      "metadata": {},
      "outputs": [],
      "source": [
        "results_g = predict_nested_samples_with_raw(model_snn, x_test)"
      ]
    },
    {
      "cell_type": "code",
      "execution_count": 24,
      "metadata": {},
      "outputs": [],
      "source": [
        "# import os\n",
        "# from PIL import Image\n",
        "\n",
        "# def clean_notmnist(data_dir=\"./data/notMNIST\"):\n",
        "#     bad_files = []\n",
        "#     for root, _, files in os.walk(data_dir):\n",
        "#         for f in files:\n",
        "#             path = os.path.join(root, f)\n",
        "#             try:\n",
        "#                 with Image.open(path) as img:\n",
        "#                     img.verify()\n",
        "#             except Exception:\n",
        "#                 bad_files.append(path)\n",
        "\n",
        "#     print(\"Removing bad files:\", len(bad_files))\n",
        "#     for f in bad_files:\n",
        "#         os.remove(f)\n",
        "\n",
        "# clean_notmnist()"
      ]
    },
    {
      "cell_type": "code",
      "execution_count": 47,
      "metadata": {},
      "outputs": [
        {
          "name": "stdout",
          "output_type": "stream",
          "text": [
            "Found 18724 files belonging to 10 classes.\n",
            "Removing bad files: 0\n"
          ]
        }
      ],
      "source": [
        "x_not_mnist, y_not_mnist = load_notmnist()\n",
        "import os\n",
        "from PIL import Image\n",
        "\n",
        "def clean_notmnist(data_dir=\"./data/notMNIST\"):\n",
        "    bad_files = []\n",
        "    for root, _, files in os.walk(data_dir):\n",
        "        for f in files:\n",
        "            path = os.path.join(root, f)\n",
        "            try:\n",
        "                with Image.open(path) as img:\n",
        "                    img.verify()\n",
        "            except Exception:\n",
        "                bad_files.append(path)\n",
        "\n",
        "    print(\"Removing bad files:\", len(bad_files))\n",
        "    for f in bad_files:\n",
        "        os.remove(f)\n",
        "\n",
        "clean_notmnist()"
      ]
    },
    {
      "cell_type": "code",
      "execution_count": 61,
      "metadata": {},
      "outputs": [
        {
          "name": "stdout",
          "output_type": "stream",
          "text": [
            "x_train: (60000, 784) float32 <class 'numpy.ndarray'>\n",
            "x_not_mnist: (18724, 784) <dtype: 'float32'> <class 'tensorflow.python.framework.ops.EagerTensor'>\n"
          ]
        },
        {
          "ename": "AttributeError",
          "evalue": "'numpy.ndarray' object has no attribute 'numpy'",
          "output_type": "error",
          "traceback": [
            "\u001b[31m---------------------------------------------------------------------------\u001b[39m",
            "\u001b[31mAttributeError\u001b[39m                            Traceback (most recent call last)",
            "\u001b[36mCell\u001b[39m\u001b[36m \u001b[39m\u001b[32mIn[61]\u001b[39m\u001b[32m, line 4\u001b[39m\n\u001b[32m      1\u001b[39m \u001b[38;5;28mprint\u001b[39m(\u001b[33m\"\u001b[39m\u001b[33mx_train:\u001b[39m\u001b[33m\"\u001b[39m, x_train.shape, x_train.dtype, \u001b[38;5;28mtype\u001b[39m(x_train))\n\u001b[32m      2\u001b[39m \u001b[38;5;28mprint\u001b[39m(\u001b[33m\"\u001b[39m\u001b[33mx_not_mnist:\u001b[39m\u001b[33m\"\u001b[39m, x_not_mnist.shape, x_not_mnist.dtype, \u001b[38;5;28mtype\u001b[39m(x_not_mnist))\n\u001b[32m----> \u001b[39m\u001b[32m4\u001b[39m \u001b[38;5;28mprint\u001b[39m(\u001b[33m\"\u001b[39m\u001b[33mFirst x_train element range:\u001b[39m\u001b[33m\"\u001b[39m, \u001b[43mx_train\u001b[49m\u001b[43m.\u001b[49m\u001b[43mnumpy\u001b[49m().min(), x_train.numpy().max())\n\u001b[32m      5\u001b[39m \u001b[38;5;28mprint\u001b[39m(\u001b[33m\"\u001b[39m\u001b[33mFirst x_not_mnist element range:\u001b[39m\u001b[33m\"\u001b[39m, x_not_mnist.numpy().min(), x_not_mnist.numpy().max())\n",
            "\u001b[31mAttributeError\u001b[39m: 'numpy.ndarray' object has no attribute 'numpy'"
          ]
        }
      ],
      "source": [
        "print(\"x_train:\", x_train.shape, x_train.dtype, type(x_train))\n",
        "print(\"x_not_mnist:\", x_not_mnist.shape, x_not_mnist.dtype, type(x_not_mnist))\n",
        "\n",
        "print(\"First x_train element range:\", x_train.numpy().min(), x_train.numpy().max())\n",
        "print(\"First x_not_mnist element range:\", x_not_mnist.numpy().min(), x_not_mnist.numpy().max())\n"
      ]
    },
    {
      "cell_type": "code",
      "execution_count": 106,
      "metadata": {},
      "outputs": [],
      "source": [
        "# x_not_mnist, y_not_mnist = load_notmnist()\n",
        "results_n = predict_nested_samples_with_raw(model_snn, x_not_mnist)"
      ]
    },
    {
      "cell_type": "code",
      "execution_count": 26,
      "metadata": {},
      "outputs": [],
      "source": [
        "# print(\"x_train:\", x_train.shape, x_train.dtype, type(x_train))\n",
        "# print(\"x_not_mnist:\", x_not_mnist.shape, x_not_mnist.dtype, type(x_not_mnist))\n",
        "\n",
        "# print(\"First x_train element range:\", x_train.numpy().min(), x_train.numpy().max())\n",
        "# print(\"First x_not_mnist element range:\", x_not_mnist.numpy().min(), x_not_mnist.numpy().max())"
      ]
    },
    {
      "cell_type": "code",
      "execution_count": 129,
      "metadata": {},
      "outputs": [
        {
          "name": "stdout",
          "output_type": "stream",
          "text": [
            "0.6110662362354327\n",
            "0.4652451038454461\n"
          ]
        }
      ],
      "source": [
        "print(MultinomialOpinion.from_list_prob(results_n[1][0]).u)\n",
        "print(sl.MultinomialOpinion.from_list_prob(results_n[1][0]).u)"
      ]
    },
    {
      "cell_type": "code",
      "execution_count": 118,
      "metadata": {},
      "outputs": [
        {
          "name": "stdout",
          "output_type": "stream",
          "text": [
            "MultinomialOpinion(belief={0: np.float64(0.007207533627671678), 1: np.float64(0.009072676252910935), 2: np.float64(0.009807203457907279), 3: np.float64(0.007113595909276797), 4: np.float64(0.009364843237209899), 5: np.float64(0.00879705001015015), 6: np.float64(0.006468270981925093), 7: np.float64(0.007187927886714304), 8: np.float64(0.009048258405638911), 9: np.float64(0.010015271163792305), 10: np.float64(0.007245933102252152), 11: np.float64(0.010032707874859475), 12: np.float64(0.008735491438220378), 13: np.float64(0.009671648406028504), 14: np.float64(0.009345387489846311)}, u=0.871, base_rate={0: 0.06666666666666667, 1: 0.06666666666666667, 2: 0.06666666666666667, 3: 0.06666666666666667, 4: 0.06666666666666667, 5: 0.06666666666666667, 6: 0.06666666666666667, 7: 0.06666666666666667, 8: 0.06666666666666667, 9: 0.06666666666666667, 10: 0.06666666666666667, 11: 0.06666666666666667, 12: 0.06666666666666667, 13: 0.06666666666666667, 14: 0.06666666666666667}, E={ 0: 0.065, 1: 0.067, 2: 0.068, 3: 0.065, 4: 0.067, 5: 0.067, 6: 0.065, 7: 0.065, 8: 0.067, 9: 0.068, 10: 0.065, 11: 0.068, 12: 0.067, 13: 0.068, 14: 0.067 })\n",
            "[[5.27050418e-07 6.02756870e-07 7.04534727e-07 1.47702558e-05\n",
            "  9.48662910e-06 5.95243570e-08 1.29386876e-06 3.98129596e-05\n",
            "  5.12961719e-07 9.44466692e-08 1.18371179e-06 5.68858411e-07\n",
            "  2.33022638e-06 4.40243213e-07 1.24797936e-07]\n",
            " [1.23668625e-03 2.51687452e-04 6.03246212e-04 3.31757567e-03\n",
            "  3.76651384e-04 1.15106814e-03 2.44017094e-04 2.09023966e-03\n",
            "  1.15568473e-04 6.58014207e-04 8.93157485e-05 2.84833659e-04\n",
            "  6.44413894e-03 9.95018869e-04 7.24919001e-03]\n",
            " [9.23896804e-02 1.00721456e-01 1.15565524e-01 4.87020344e-01\n",
            "  3.19789872e-02 2.98526704e-01 5.64447902e-02 7.98996687e-02\n",
            "  1.47687703e-01 1.63404480e-01 1.23468131e-01 4.47378233e-02\n",
            "  2.42978744e-02 1.05283886e-01 1.62877329e-02]\n",
            " [2.28459314e-01 2.08368242e-01 6.83629960e-02 1.07102588e-01\n",
            "  3.87164056e-01 9.68289524e-02 1.02081440e-01 3.54563773e-01\n",
            "  2.29950175e-01 8.15421715e-02 2.11464852e-01 2.51319528e-01\n",
            "  7.71428421e-02 1.37187570e-01 2.33137608e-01]\n",
            " [2.35823944e-01 1.86050415e-01 9.03026834e-02 7.39675760e-02\n",
            "  3.86299640e-01 9.25226230e-03 6.56302646e-02 1.21339984e-01\n",
            "  3.18178564e-01 6.27196610e-01 2.39268482e-01 2.71110684e-01\n",
            "  1.95594709e-02 8.28137249e-02 5.99250868e-02]\n",
            " [3.24483514e-01 9.13861766e-02 6.79937184e-01 3.17612112e-01\n",
            "  1.33742020e-01 5.23823380e-01 6.56956553e-01 3.97234112e-01\n",
            "  1.58341721e-01 1.03795648e-01 3.62152129e-01 3.46784860e-01\n",
            "  4.30108100e-01 6.47262931e-01 5.17484963e-01]\n",
            " [1.17055401e-01 4.11429942e-01 4.45963927e-02 1.06578087e-02\n",
            "  5.99963255e-02 7.00398162e-02 1.17761768e-01 4.34865914e-02\n",
            "  1.43965557e-01 2.25282144e-02 6.26019537e-02 8.54447708e-02\n",
            "  4.42350894e-01 2.51930617e-02 1.65541396e-01]\n",
            " [2.45472387e-04 1.06667087e-03 6.16123507e-05 6.10710922e-05\n",
            "  1.54531459e-04 1.05860781e-04 1.46154634e-04 2.05512450e-04\n",
            "  9.12704505e-04 5.04962343e-04 3.00152780e-04 1.54294074e-04\n",
            "  3.31371775e-05 2.73892103e-04 1.97378089e-04]\n",
            " [1.36432209e-04 2.64939968e-04 4.56511771e-04 8.17614455e-06\n",
            "  1.81873387e-04 2.15433582e-04 6.73838484e-04 4.88643767e-04\n",
            "  8.32943420e-04 1.18316566e-05 1.75804656e-04 5.85951966e-05\n",
            "  4.45197256e-05 3.88763146e-05 7.37129012e-05]\n",
            " [1.69017309e-04 4.59891482e-04 1.13143025e-04 2.38001056e-04\n",
            "  9.64795181e-05 5.65243099e-05 5.98552215e-05 6.51630748e-04\n",
            "  1.44926371e-05 3.57935758e-04 4.78029833e-04 1.04039507e-04\n",
            "  1.66239370e-05 9.50532849e-04 1.02718477e-04]]\n",
            "\n",
            "[0.23531147 0.24291858 0.21988254 0.22432373 0.23209028 0.20487323\n",
            " 0.2227508  0.27179458 0.22792805 0.20933959 0.23216949 0.2164934\n",
            " 0.20929411 0.22493375 0.21940671]\n",
            "15\n",
            "MultinomialOpinion(belief={0: np.float64(-0.22533850302653338), 1: np.float64(-0.22309683917000772), 2: np.float64(-0.2298851003581455), 3: np.float64(-0.2285763702327523), 4: np.float64(-0.22628772260901137), 5: np.float64(-0.23430804563138116), 6: np.float64(-0.22903988198997943), 7: np.float64(-0.21458765486420475), 8: np.float64(-0.2275142499759894), 9: np.float64(-0.23299189847220006), 10: np.float64(-0.22626438223213421), 11: np.float64(-0.23088381156168872), 12: np.float64(-0.23300529933862604), 13: np.float64(-0.22839660859283795), 14: np.float64(-0.23002531745905333)}, u=4.420, base_rate={0: 0.06666666666666667, 1: 0.06666666666666667, 2: 0.06666666666666667, 3: 0.06666666666666667, 4: 0.06666666666666667, 5: 0.06666666666666667, 6: 0.06666666666666667, 7: 0.06666666666666667, 8: 0.06666666666666667, 9: 0.06666666666666667, 10: 0.06666666666666667, 11: 0.06666666666666667, 12: 0.06666666666666667, 13: 0.06666666666666667, 14: 0.06666666666666667}, E={ 0: 0.069, 1: 0.072, 2: 0.065, 3: 0.066, 4: 0.068, 5: 0.060, 6: 0.066, 7: 0.080, 8: 0.067, 9: 0.062, 10: 0.068, 11: 0.064, 12: 0.062, 13: 0.066, 14: 0.065 })\n"
          ]
        }
      ],
      "source": [
        "print(MultinomialOpinion.from_list_prob(results_n[1][0].numpy().T))"
      ]
    },
    {
      "cell_type": "code",
      "execution_count": 109,
      "metadata": {},
      "outputs": [
        {
          "name": "stdout",
          "output_type": "stream",
          "text": [
            "0.1477050694443349\n",
            "tf.Tensor(\n",
            "[[2.27340937e-01 1.55858597e-05 2.94068277e-01 1.24331862e-01\n",
            "  4.32153247e-05 3.43495887e-03 2.79578177e-04 3.05668712e-01\n",
            "  1.94437045e-03 4.28724959e-02]\n",
            " [4.48492497e-01 2.91735796e-06 9.80232731e-02 2.18388170e-01\n",
            "  7.25202262e-05 3.67929181e-03 1.94943871e-03 1.55260295e-01\n",
            "  4.42280527e-03 6.97088540e-02]\n",
            " [1.12002462e-01 3.62678020e-06 2.50140280e-01 2.34967157e-01\n",
            "  5.32152306e-04 1.49275241e-02 3.39574239e-04 3.11688602e-01\n",
            "  2.20301487e-02 5.33684492e-02]\n",
            " [6.01924896e-01 1.87359240e-06 3.03106397e-01 5.63790202e-02\n",
            "  7.78312733e-06 7.12103967e-04 5.25247830e-04 2.44811270e-02\n",
            "  4.31710941e-04 1.24297934e-02]\n",
            " [1.05852880e-01 1.01690912e-05 6.00313425e-01 2.35937074e-01\n",
            "  9.51489856e-05 6.44492405e-03 2.22946095e-04 2.24835202e-02\n",
            "  2.39704852e-03 2.62428001e-02]\n",
            " [6.41737953e-02 2.87346757e-05 3.89845014e-01 1.35923013e-01\n",
            "  2.29160905e-05 2.74301204e-03 6.07438618e-04 3.75827879e-01\n",
            "  1.43607734e-02 1.64673720e-02]\n",
            " [4.55149561e-01 3.70133716e-06 1.59087747e-01 1.53466970e-01\n",
            "  6.96111412e-04 1.99722685e-02 5.49630634e-03 1.17207386e-01\n",
            "  3.99552099e-02 4.89647463e-02]\n",
            " [1.84691623e-01 8.43662747e-06 5.01073718e-01 1.58939898e-01\n",
            "  2.62068439e-04 1.19227525e-02 5.20957459e-04 7.47497007e-02\n",
            "  1.33192958e-02 5.45115620e-02]\n",
            " [2.04760939e-01 2.53862339e-07 6.21539414e-01 1.49637520e-01\n",
            "  8.54098544e-05 1.07683544e-03 6.73198549e-04 1.61201544e-02\n",
            "  4.90402197e-03 1.20230718e-03]\n",
            " [2.99064666e-01 1.33381436e-05 3.22958767e-01 9.94709656e-02\n",
            "  4.29454696e-04 7.41805788e-03 1.40603224e-03 1.59634501e-01\n",
            "  3.17355315e-03 1.06430635e-01]\n",
            " [7.36949220e-02 1.85645922e-06 5.74087262e-01 1.68908298e-01\n",
            "  3.44845903e-05 3.36924265e-03 1.53438712e-04 1.36092141e-01\n",
            "  8.35355930e-03 3.53048183e-02]\n",
            " [5.36550283e-01 1.63667482e-05 8.08295757e-02 1.27538994e-01\n",
            "  1.12345071e-04 1.01066418e-02 1.09253531e-04 1.60798982e-01\n",
            "  5.41110989e-03 7.85263628e-02]\n",
            " [7.45396435e-01 8.46584771e-06 1.11362383e-01 1.13613881e-01\n",
            "  1.28823249e-05 4.90122195e-03 2.49260163e-04 5.17258793e-03\n",
            "  1.28424875e-02 6.44046813e-03]\n",
            " [5.36032915e-01 1.77077836e-05 1.68764904e-01 1.91776171e-01\n",
            "  8.60156797e-05 1.16566541e-02 2.74609949e-04 4.34458070e-02\n",
            "  5.46645420e-03 4.24788222e-02]\n",
            " [4.74068165e-01 4.31405124e-06 6.60454482e-02 1.93807945e-01\n",
            "  3.76028656e-05 1.13910697e-02 2.42159993e-04 1.47308126e-01\n",
            "  1.69912018e-02 9.01039690e-02]], shape=(15, 10), dtype=float32)\n",
            "\n",
            "[3.89331572 0.10980427 3.60119087 2.41650535 0.15324917 0.38797821\n",
            " 0.2071285  1.53146361 0.41110063 0.82144729]\n",
            "10\n",
            "MultinomialOpinion(belief={0: np.float64(0.21379416708831614), 1: np.float64(-0.06577873769674658), 2: np.float64(0.19220834830390846), 3: np.float64(0.10466904075230106), 4: np.float64(-0.06256848765882712), 5: np.float64(-0.04522378555681558), 6: np.float64(-0.05858721194388236), 7: np.float64(0.03927114436160771), 8: np.float64(-0.04351521339127414), 9: np.float64(-0.013193695791106451)}, u=0.739, base_rate={0: 0.1, 1: 0.1, 2: 0.1, 3: 0.1, 4: 0.1, 5: 0.1, 6: 0.1, 7: 0.1, 8: 0.1, 9: 0.1}, E={ 0: 0.288, 1: 0.008, 2: 0.266, 3: 0.179, 4: 0.011, 5: 0.029, 6: 0.015, 7: 0.113, 8: 0.030, 9: 0.061 })\n"
          ]
        }
      ],
      "source": [
        "print(MultinomialOpinion.from_list_prob(results_n[2][0]).u)\n",
        "print(MultinomialOpinion.from_list_prob(results_n[2][0]))"
      ]
    },
    {
      "cell_type": "code",
      "execution_count": 99,
      "metadata": {},
      "outputs": [
        {
          "data": {
            "image/png": "[encoded data removed]",
            "text/plain": [
              "<Figure size 640x480 with 1 Axes>"
            ]
          },
          "metadata": {},
          "output_type": "display_data"
        }
      ],
      "source": [
        "def show_im(x, y):\n",
        "    try:\n",
        "        img = x.numpy().reshape(28, 28)\n",
        "    except:\n",
        "        img = x.reshape(28, 28)\n",
        "    img = x.numpy().reshape(28, 28)\n",
        "\n",
        "    plt.imshow(img, cmap=\"gray\")\n",
        "    plt.title(f\"Label: {y}\")\n",
        "    plt.axis(\"off\")\n",
        "    plt.show()\n",
        "show_im(x_not_mnist[1], 0)"
      ]
    },
    {
      "cell_type": "code",
      "execution_count": 31,
      "metadata": {},
      "outputs": [],
      "source": [
        "pred = results_g\n",
        "res_g = []\n",
        "for i in range(len(pred)):\n",
        "    res_g.append(MultinomialOpinion.from_list_prob(pred[i][0]).get_best_belief_uncertainty())\n",
        "res_g = np.array(res_g)"
      ]
    },
    {
      "cell_type": "code",
      "execution_count": 32,
      "metadata": {},
      "outputs": [],
      "source": [
        "res_g = np.array(res_g)"
      ]
    },
    {
      "cell_type": "code",
      "execution_count": 33,
      "metadata": {},
      "outputs": [
        {
          "data": {
            "text/plain": [
              "(np.float64(0.0035638710000666296), np.float64(0.0474264252437915))"
            ]
          },
          "execution_count": 33,
          "metadata": {},
          "output_type": "execute_result"
        }
      ],
      "source": [
        "np.median(res_g[:,2]), np.mean(res_g[:,2])"
      ]
    },
    {
      "cell_type": "code",
      "execution_count": 35,
      "metadata": {},
      "outputs": [
        {
          "data": {
            "text/plain": [
              "(np.float64(0.7476695130859213), np.float64(0.0002746969285867616))"
            ]
          },
          "execution_count": 35,
          "metadata": {},
          "output_type": "execute_result"
        }
      ],
      "source": [
        "np.max(res_g[:,2]), np.min(res_g[:,2])"
      ]
    },
    {
      "cell_type": "code",
      "execution_count": 36,
      "metadata": {},
      "outputs": [],
      "source": [
        "indmin, indmax = np.argmin(res_g[:,2]), np.argmax(res_g[:,2])"
      ]
    },
    {
      "cell_type": "code",
      "execution_count": 38,
      "metadata": {},
      "outputs": [
        {
          "data": {
            "image/png": "[encoded data removed]",
            "text/plain": [
              "<Figure size 640x480 with 1 Axes>"
            ]
          },
          "metadata": {},
          "output_type": "display_data"
        },
        {
          "data": {
            "image/png": "[encoded data removed]",
            "text/plain": [
              "<Figure size 640x480 with 1 Axes>"
            ]
          },
          "metadata": {},
          "output_type": "display_data"
        }
      ],
      "source": [
        "show_im(x_test[indmin], res_g[:,0][indmin])\n",
        "show_im(x_test[indmax], res_g[:,0][indmax])"
      ]
    },
    {
      "cell_type": "code",
      "execution_count": 39,
      "metadata": {},
      "outputs": [],
      "source": [
        "pred = results_n\n",
        "res_n = []\n",
        "for i in range(len(pred)):\n",
        "    res_n.append(MultinomialOpinion.from_list_prob(pred[i][0]).get_best_belief_uncertainty())\n",
        "res_n = np.array(res_n)"
      ]
    },
    {
      "cell_type": "code",
      "execution_count": 40,
      "metadata": {},
      "outputs": [
        {
          "data": {
            "text/plain": [
              "array([4., 5., 7., ..., 3., 3., 3.], shape=(18724,))"
            ]
          },
          "execution_count": 40,
          "metadata": {},
          "output_type": "execute_result"
        }
      ],
      "source": [
        "res_n[:,0]"
      ]
    },
    {
      "cell_type": "code",
      "execution_count": 41,
      "metadata": {},
      "outputs": [
        {
          "data": {
            "text/plain": [
              "(np.float64(0.33379713518239845), np.float64(0.0474264252437915))"
            ]
          },
          "execution_count": 41,
          "metadata": {},
          "output_type": "execute_result"
        }
      ],
      "source": [
        "np.mean(res_n[:,2]), np.mean(res_g[:,2])"
      ]
    },
    {
      "cell_type": "code",
      "execution_count": 42,
      "metadata": {},
      "outputs": [
        {
          "data": {
            "text/plain": [
              "(np.float64(0.33828102922865166), np.float64(0.0035638710000666296))"
            ]
          },
          "execution_count": 42,
          "metadata": {},
          "output_type": "execute_result"
        }
      ],
      "source": [
        "np.median(res_n[:,2]), np.median(res_g[:,2])"
      ]
    },
    {
      "cell_type": "code",
      "execution_count": 43,
      "metadata": {},
      "outputs": [
        {
          "data": {
            "text/plain": [
              "array([7., 2., 1., ..., 4., 5., 6.], shape=(10000,))"
            ]
          },
          "execution_count": 43,
          "metadata": {},
          "output_type": "execute_result"
        }
      ],
      "source": [
        "ind = np.where(res_g[:,2]<0.1)\n",
        "res_g[:,0]"
      ]
    },
    {
      "cell_type": "code",
      "execution_count": 44,
      "metadata": {},
      "outputs": [
        {
          "data": {
            "image/png": "[encoded data removed]",
            "text/plain": [
              "<Figure size 640x480 with 1 Axes>"
            ]
          },
          "metadata": {},
          "output_type": "display_data"
        }
      ],
      "source": [
        "def accuracy_vs_threshold(y_true, y_pred, uncertainty, thresholds=50):\n",
        "    \"\"\"\n",
        "    y_true: array of shape (N,) with ground-truth labels\n",
        "    y_pred: array of shape (N,) with predicted labels (NOT probabilities)\n",
        "    uncertainty: array of shape (N,) with uncertainty values\n",
        "    thresholds: number of thresholds or list of thresholds\n",
        "    \"\"\"\n",
        "    if y_pred.ndim > 1:  # if still probabilities\n",
        "        y_pred = np.argmax(y_pred, axis=1)\n",
        "\n",
        "    thresholds = np.linspace(0, 1, thresholds) if isinstance(thresholds, int) else np.array(thresholds)\n",
        "    accs, coverages = [], []\n",
        "\n",
        "    for t in thresholds:\n",
        "        mask = uncertainty <= t\n",
        "        if mask.sum() == 0:\n",
        "            accs.append(np.nan)\n",
        "            coverages.append(0)\n",
        "        else:\n",
        "            accs.append((y_pred[mask] == y_true[mask]).mean())\n",
        "            coverages.append(mask.mean())\n",
        "\n",
        "    return thresholds, np.array(accs), np.array(coverages)\n",
        "\n",
        "\n",
        "# Run\n",
        "ytrue = np.argmax(y_test, axis=1)\n",
        "thresholds, accs, coverages = accuracy_vs_threshold(ytrue, res_g[:,0], res_g[:,2])\n",
        "\n",
        "# Plot accuracy vs. uncertainty threshold\n",
        "plt.plot(thresholds, accs, label=\"Accuracy\")\n",
        "plt.xlabel(\"Uncertainty Threshold\")\n",
        "plt.ylabel(\"Accuracy\")\n",
        "plt.title(\"Accuracy vs. Uncertainty Threshold\")\n",
        "plt.grid()\n",
        "plt.legend()\n",
        "plt.show()"
      ]
    },
    {
      "cell_type": "code",
      "execution_count": 45,
      "metadata": {},
      "outputs": [],
      "source": [
        "import pickle\n",
        "\n",
        "def save_data(data, fname):\n",
        "    with open(fname, \"wb\") as f:\n",
        "        pickle.dump(data, f)"
      ]
    },
    {
      "cell_type": "code",
      "execution_count": 46,
      "metadata": {},
      "outputs": [],
      "source": [
        "save_data(coverages, \"coverages.pkl\")"
      ]
    },
    {
      "cell_type": "code",
      "execution_count": 47,
      "metadata": {},
      "outputs": [
        {
          "data": {
            "text/plain": [
              "array([0., 0., 0., 0., 0., 0., 0., 1., 0., 0.])"
            ]
          },
          "execution_count": 47,
          "metadata": {},
          "output_type": "execute_result"
        }
      ],
      "source": [
        "y_test[0]"
      ]
    },
    {
      "cell_type": "code",
      "execution_count": 63,
      "metadata": {},
      "outputs": [
        {
          "name": "stdout",
          "output_type": "stream",
          "text": [
            "7.0\n",
            "0.005713595881562518\n"
          ]
        },
        {
          "data": {
            "image/png": "[encoded data removed]",
            "text/plain": [
              "<Figure size 640x480 with 1 Axes>"
            ]
          },
          "metadata": {},
          "output_type": "display_data"
        }
      ],
      "source": [
        "ii = 0\n",
        "print(res_g[ii][0])\n",
        "print(res_g[ii][2])\n",
        "show_im(x_test[ii],0)"
      ]
    },
    {
      "cell_type": "code",
      "execution_count": 49,
      "metadata": {},
      "outputs": [
        {
          "data": {
            "text/plain": [
              "<tf.Tensor: shape=(15, 10), dtype=float32, numpy=\n",
              "array([[1.47793133e-09, 1.76448312e-09, 1.79113719e-08, 1.31299018e-07,\n",
              "        5.99736493e-12, 1.27921540e-09, 3.38811955e-17, 9.99999762e-01,\n",
              "        1.24708499e-09, 1.23634976e-07],\n",
              "       [5.59471175e-07, 4.75721790e-05, 4.65077028e-06, 1.53620291e-04,\n",
              "        3.39487855e-07, 4.58811911e-07, 9.81917997e-13, 9.99755919e-01,\n",
              "        1.69068088e-07, 3.66792192e-05],\n",
              "       [3.98547428e-07, 1.06572952e-06, 3.79089488e-06, 2.90875250e-05,\n",
              "        6.08372330e-09, 9.82761819e-08, 2.46103780e-14, 9.99964595e-01,\n",
              "        1.73259096e-07, 6.71867610e-07],\n",
              "       [1.17809218e-09, 1.55153153e-08, 5.81672964e-07, 9.72566738e-08,\n",
              "        2.09797527e-11, 8.10969603e-09, 6.80200660e-14, 9.99999046e-01,\n",
              "        3.05544283e-08, 2.01891865e-07],\n",
              "       [2.26373004e-07, 9.10836093e-07, 8.19920460e-05, 5.03487280e-03,\n",
              "        1.00237131e-07, 6.51956441e-07, 1.50682396e-12, 9.92584109e-01,\n",
              "        1.27343003e-06, 2.29584379e-03],\n",
              "       [1.06867203e-10, 1.34708977e-09, 7.40981498e-10, 1.41072201e-06,\n",
              "        1.19236366e-11, 1.74859335e-10, 6.49141897e-17, 9.99998689e-01,\n",
              "        7.33079986e-11, 4.40899273e-09],\n",
              "       [4.44809103e-07, 1.84878115e-06, 2.66174567e-07, 2.68773292e-05,\n",
              "        1.17553938e-07, 5.21476409e-07, 1.60510303e-11, 9.99955118e-01,\n",
              "        6.80902895e-06, 8.06680418e-06],\n",
              "       [1.39618628e-08, 1.13709412e-07, 2.78528978e-06, 1.21111555e-06,\n",
              "        1.09303580e-08, 9.38482074e-08, 1.03717009e-11, 9.99995351e-01,\n",
              "        5.45953576e-08, 3.80943220e-07],\n",
              "       [9.16511145e-10, 3.01558352e-08, 3.90151808e-06, 2.46509822e-04,\n",
              "        6.94647762e-09, 2.46603959e-09, 1.23489791e-15, 9.99748409e-01,\n",
              "        1.37818617e-07, 1.08372376e-06],\n",
              "       [9.13369433e-08, 6.32559534e-07, 7.19574984e-07, 1.63094610e-05,\n",
              "        1.51129764e-09, 3.29555724e-06, 3.94979425e-14, 9.99973416e-01,\n",
              "        1.43634929e-06, 4.09915538e-06],\n",
              "       [1.12217835e-08, 5.27336361e-08, 4.49784551e-07, 4.00479948e-05,\n",
              "        3.98390476e-08, 9.51557411e-07, 1.76323816e-14, 9.99953866e-01,\n",
              "        4.27909811e-07, 4.18012451e-06],\n",
              "       [4.84321638e-10, 5.21866550e-09, 1.05755099e-07, 2.05149988e-07,\n",
              "        9.61173696e-10, 9.78894743e-10, 1.15348986e-16, 9.99999464e-01,\n",
              "        2.25366348e-09, 2.01960162e-07],\n",
              "       [1.71137025e-08, 1.61926964e-05, 1.37475593e-06, 4.71068925e-04,\n",
              "        7.16110904e-08, 1.17511297e-06, 3.58975843e-13, 9.99472320e-01,\n",
              "        9.31340026e-07, 3.69094632e-05],\n",
              "       [1.43961415e-07, 5.63296851e-07, 1.12981934e-06, 2.04462151e-04,\n",
              "        1.29294293e-07, 3.18852017e-07, 2.06037964e-12, 9.99756455e-01,\n",
              "        3.72288724e-07, 3.64244515e-05],\n",
              "       [8.41620817e-09, 4.61378750e-06, 4.18364579e-07, 2.79277210e-05,\n",
              "        4.17176915e-09, 2.38084734e-08, 6.81487947e-14, 9.99962926e-01,\n",
              "        3.17504799e-07, 3.77860647e-06]], dtype=float32)>"
            ]
          },
          "execution_count": 49,
          "metadata": {},
          "output_type": "execute_result"
        }
      ],
      "source": [
        "results_g[ii][0]"
      ]
    },
    {
      "cell_type": "code",
      "execution_count": 50,
      "metadata": {},
      "outputs": [],
      "source": [
        "rr = predict_nested_samples_with_raw(model_snn, [x_test[ii]])\n",
        "# predict_nested_samples_with_raw(model_snn, x_test)\n",
        "# rr"
      ]
    },
    {
      "cell_type": "code",
      "execution_count": 51,
      "metadata": {},
      "outputs": [],
      "source": [
        "logits = model_snn(x_test, training=True)   # force sampling\n",
        "probs = tf.nn.softmax(logits, axis=-1)\n",
        "pred = tf.argmax(probs, axis=-1)\n"
      ]
    },
    {
      "cell_type": "code",
      "execution_count": 52,
      "metadata": {},
      "outputs": [
        {
          "data": {
            "text/plain": [
              "np.int64(7)"
            ]
          },
          "execution_count": 52,
          "metadata": {},
          "output_type": "execute_result"
        }
      ],
      "source": [
        "pred.numpy()[ii]"
      ]
    },
    {
      "cell_type": "code",
      "execution_count": 53,
      "metadata": {},
      "outputs": [
        {
          "data": {
            "text/plain": [
              "array([0., 0., 0., 0., 0., 0., 0., 1., 0., 0.])"
            ]
          },
          "execution_count": 53,
          "metadata": {},
          "output_type": "execute_result"
        }
      ],
      "source": [
        "y_test[ii]"
      ]
    },
    {
      "cell_type": "code",
      "execution_count": 54,
      "metadata": {},
      "outputs": [
        {
          "name": "stdout",
          "output_type": "stream",
          "text": [
            "Stochastic accuracy: 0.0\n"
          ]
        }
      ],
      "source": [
        "acc = tf.reduce_mean(tf.cast(pred == y_test, tf.float32))\n",
        "print(\"Stochastic accuracy:\", float(acc))"
      ]
    },
    {
      "cell_type": "markdown",
      "metadata": {},
      "source": [
        "# Figure Plot"
      ]
    },
    {
      "cell_type": "code",
      "execution_count": null,
      "metadata": {},
      "outputs": [
        {
          "ename": "NameError",
          "evalue": "name 'model' is not defined",
          "output_type": "error",
          "traceback": [
            "\u001b[31m---------------------------------------------------------------------------\u001b[39m",
            "\u001b[31mNameError\u001b[39m                                 Traceback (most recent call last)",
            "\u001b[36mCell\u001b[39m\u001b[36m \u001b[39m\u001b[32mIn[55]\u001b[39m\u001b[32m, line 58\u001b[39m\n\u001b[32m     55\u001b[39m     \u001b[38;5;28;01mreturn\u001b[39;00m epsilons, accs, ents\n\u001b[32m     57\u001b[39m \u001b[38;5;66;03m# Example usage\u001b[39;00m\n\u001b[32m---> \u001b[39m\u001b[32m58\u001b[39m epsilons, accs, ents = evaluate_adversarial(\u001b[43mmodel\u001b[49m, x_test, y_test)\n\u001b[32m     60\u001b[39m \u001b[38;5;66;03m# Plot\u001b[39;00m\n\u001b[32m     61\u001b[39m plt.figure(figsize=(\u001b[32m10\u001b[39m,\u001b[32m4\u001b[39m))\n",
            "\u001b[31mNameError\u001b[39m: name 'model' is not defined"
          ]
        }
      ],
      "source": [
        "def predictive_entropy(probs):\n",
        "    \"\"\"Compute entropy per sample given class probabilities.\"\"\"\n",
        "    return -np.sum(probs * np.log(probs + 1e-10), axis=1)\n",
        "\n",
        "def fgsm_attack(model, x, y, epsilon):\n",
        "    \"\"\"\n",
        "    Generate FGSM adversarial examples.\n",
        "    model: tf.keras.Model\n",
        "    x: input batch (tensor)\n",
        "    y: true labels (integer or one-hot)\n",
        "    epsilon: perturbation strength\n",
        "    \"\"\"\n",
        "    x = tf.convert_to_tensor(x, dtype=tf.float32)\n",
        "\n",
        "    if y.ndim > 1:   # one-hot to class ids\n",
        "        y = np.argmax(y, axis=1)\n",
        "    y = tf.convert_to_tensor(y, dtype=tf.int64)\n",
        "\n",
        "    with tf.GradientTape() as tape:\n",
        "        tape.watch(x)\n",
        "        logits = model(x, training=True)   # stochastic forward (Bayesian mask)\n",
        "        loss = tf.keras.losses.sparse_categorical_crossentropy(y, logits, from_logits=True)\n",
        "\n",
        "    # Gradient of loss wrt input\n",
        "    grad = tape.gradient(loss, x)\n",
        "    adv_x = x + epsilon * tf.sign(grad)\n",
        "    adv_x = tf.clip_by_value(adv_x, 0.0, 1.0)  # keep valid pixel range\n",
        "    return adv_x\n",
        "\n",
        "def evaluate_adversarial(model, x_test, y_test, epsilons=[0.0, 0.05, 0.1, 0.2, 0.3], n_mc=10):\n",
        "    accs, ents = [], []\n",
        "\n",
        "    for eps in epsilons:\n",
        "        # Generate adversarial examples\n",
        "        x_adv = fgsm_attack(model, x_test, y_test, epsilon=eps)\n",
        "\n",
        "        # Monte Carlo predictions (for Bayesian models)\n",
        "        probs_mc = []\n",
        "        for _ in range(n_mc):\n",
        "            logits = model(x_adv, training=True)\n",
        "            probs_mc.append(tf.nn.softmax(logits, axis=-1).numpy())\n",
        "        probs = np.mean(probs_mc, axis=0)\n",
        "\n",
        "        # Predictions\n",
        "        y_pred = np.argmax(probs, axis=1)\n",
        "        y_true = y_test if y_test.ndim == 1 else np.argmax(y_test, axis=1)\n",
        "\n",
        "        acc = np.mean(y_pred == y_true)\n",
        "        entropy = predictive_entropy(probs).mean()\n",
        "\n",
        "        accs.append(acc)\n",
        "        ents.append(entropy)\n",
        "        print(f\"Eps={eps:.3f} | Acc={acc:.3f} | Entropy={entropy:.3f}\")\n",
        "\n",
        "    return epsilons, accs, ents\n",
        "\n",
        "# Example usage\n",
        "epsilons, accs, ents = evaluate_adversarial(model_snn, x_test, y_test)\n",
        "\n",
        "# Plot\n",
        "plt.figure(figsize=(10,4))\n",
        "plt.subplot(1,2,1)\n",
        "plt.plot(epsilons, accs, marker='o')\n",
        "plt.xlabel(\"Epsilon\"); plt.ylabel(\"Accuracy\"); plt.title(\"Accuracy vs. Adversarial Strength\")\n",
        "\n",
        "plt.subplot(1,2,2)\n",
        "plt.plot(epsilons, ents, marker='o', color=\"red\")\n",
        "plt.xlabel(\"Epsilon\"); plt.ylabel(\"Predictive Entropy\"); plt.title(\"Uncertainty vs. Adversarial Strength\")\n",
        "plt.show()\n"
      ]
    },
    {
      "cell_type": "code",
      "execution_count": null,
      "metadata": {},
      "outputs": [],
      "source": [
        "# Example usage\n",
        "epsilons, accs, ents = evaluate_adversarial(model_EDL, x_test, y_test)\n",
        "\n",
        "# Plot\n",
        "plt.figure(figsize=(10,4))\n",
        "plt.subplot(1,2,1)\n",
        "plt.plot(epsilons, accs, marker='o')\n",
        "plt.xlabel(\"Epsilon\"); plt.ylabel(\"Accuracy\"); plt.title(\"Accuracy vs. Adversarial Strength\")\n",
        "\n",
        "plt.subplot(1,2,2)\n",
        "plt.plot(epsilons, ents, marker='o', color=\"red\")\n",
        "plt.xlabel(\"Epsilon\"); plt.ylabel(\"Predictive Entropy\"); plt.title(\"Uncertainty vs. Adversarial Strength\")\n",
        "plt.show()\n"
      ]
    },
    {
      "cell_type": "markdown",
      "metadata": {},
      "source": []
    },
    {
      "cell_type": "markdown",
      "metadata": {},
      "source": []
    },
    {
      "cell_type": "markdown",
      "metadata": {},
      "source": []
    },
    {
      "cell_type": "markdown",
      "metadata": {},
      "source": []
    },
    {
      "cell_type": "markdown",
      "metadata": {},
      "source": []
    },
    {
      "cell_type": "code",
      "execution_count": null,
      "metadata": {},
      "outputs": [
        {
          "data": {
            "text/plain": [
              "(np.float64(0.25390895046121786), np.float64(0.9911599126137662))"
            ]
          },
          "execution_count": 61,
          "metadata": {},
          "output_type": "execute_result"
        }
      ],
      "source": [
        "np.median(res_n[:][2]), np.median(res_g[:][2])"
      ]
    },
    {
      "cell_type": "code",
      "execution_count": null,
      "metadata": {},
      "outputs": [
        {
          "data": {
            "text/plain": [
              "(np.float64(0.8006284645172492), np.float64(0.0007025958546544409))"
            ]
          },
          "execution_count": 46,
          "metadata": {},
          "output_type": "execute_result"
        }
      ],
      "source": [
        "np.max(res), np.min(res)"
      ]
    },
    {
      "cell_type": "code",
      "execution_count": null,
      "metadata": {},
      "outputs": [
        {
          "data": {
            "text/plain": [
              "(np.int64(14596), np.int64(13733))"
            ]
          },
          "execution_count": 45,
          "metadata": {},
          "output_type": "execute_result"
        }
      ],
      "source": [
        "np.argmax(res), np.argmin(res)"
      ]
    },
    {
      "cell_type": "code",
      "execution_count": null,
      "metadata": {},
      "outputs": [],
      "source": []
    },
    {
      "cell_type": "code",
      "execution_count": null,
      "metadata": {},
      "outputs": [
        {
          "data": {
            "image/png": "[encoded data removed]",
            "text/plain": [
              "<Figure size 640x480 with 1 Axes>"
            ]
          },
          "metadata": {},
          "output_type": "display_data"
        },
        {
          "data": {
            "image/png": "[encoded data removed]",
            "text/plain": [
              "<Figure size 640x480 with 1 Axes>"
            ]
          },
          "metadata": {},
          "output_type": "display_data"
        }
      ],
      "source": [
        "show_im(x_not_mnist[14596], 0)\n",
        "show_im(x_not_mnist[13733], 0)"
      ]
    },
    {
      "cell_type": "code",
      "execution_count": null,
      "metadata": {},
      "outputs": [],
      "source": [
        "model_snn(x_not_mnist[14596])\n",
        "pred = results_g\n",
        "res = []\n",
        "for i in range(len(pred)):\n",
        "    res.append(MultinomialOpinion.from_list_prob(pred[i]))\n",
        "\n"
      ]
    },
    {
      "cell_type": "code",
      "execution_count": 24,
      "metadata": {
        "colab": {
          "base_uri": "https://localhost:8080/",
          "height": 339
        },
        "id": "BtiLF_0GiAk6",
        "outputId": "108aa223-c0e8-46db-af44-d69146b89dc6"
      },
      "outputs": [
        {
          "data": {
            "image/png": "[encoded data removed]",
            "text/plain": [
              "<Figure size 640x480 with 1 Axes>"
            ]
          },
          "metadata": {},
          "output_type": "display_data"
        },
        {
          "data": {
            "image/png": "[encoded data removed]",
            "text/plain": [
              "<Figure size 620x1000 with 1 Axes>"
            ]
          },
          "metadata": {},
          "output_type": "display_data"
        }
      ],
      "source": [
        "rotating_image_classification(digit_one, model_snn, is_snn=True)"
      ]
    },
    {
      "cell_type": "markdown",
      "metadata": {
        "id": "81VVFV4h5eTa"
      },
      "source": [
        "## Using the Expected Cross Entropy  (Eq. 4)"
      ]
    },
    {
      "cell_type": "markdown",
      "metadata": {
        "id": "7QhAwgNx_AWH"
      },
      "source": []
    },
    {
      "cell_type": "markdown",
      "metadata": {
        "id": "jumpV4rt5eTa"
      },
      "source": [
        "In this section, we train neural network using the loss function described in Eq. 4 in the paper. This loss function is derived using the expected value of the cross entropy loss over the predicted Dirichlet distribution."
      ]
    },
    {
      "cell_type": "code",
      "execution_count": 25,
      "metadata": {
        "colab": {
          "base_uri": "https://localhost:8080/",
          "height": 211
        },
        "collapsed": true,
        "id": "pzgZFuUx2vM-",
        "outputId": "bad77de8-fb6d-45cd-e252-3249564fd00f"
      },
      "outputs": [
        {
          "ename": "AttributeError",
          "evalue": "module 'tensorflow' has no attribute 'digamma'",
          "output_type": "error",
          "traceback": [
            "\u001b[31m---------------------------------------------------------------------------\u001b[39m",
            "\u001b[31mAttributeError\u001b[39m                            Traceback (most recent call last)",
            "\u001b[36mCell\u001b[39m\u001b[36m \u001b[39m\u001b[32mIn[25]\u001b[39m\u001b[32m, line 1\u001b[39m\n\u001b[32m----> \u001b[39m\u001b[32m1\u001b[39m \u001b[38;5;28;01mdef\u001b[39;00m\u001b[38;5;250m \u001b[39m\u001b[34mloss_EDL\u001b[39m(func=\u001b[43mtf\u001b[49m\u001b[43m.\u001b[49m\u001b[43mdigamma\u001b[49m):\n\u001b[32m      2\u001b[39m     \u001b[38;5;28;01mdef\u001b[39;00m\u001b[38;5;250m \u001b[39m\u001b[34mloss_func\u001b[39m(p, alpha, global_step, annealing_step):\n\u001b[32m      3\u001b[39m         S = tf.reduce_sum(alpha, axis=\u001b[32m1\u001b[39m, keep_dims=\u001b[38;5;28;01mTrue\u001b[39;00m)\n",
            "\u001b[31mAttributeError\u001b[39m: module 'tensorflow' has no attribute 'digamma'"
          ]
        }
      ],
      "source": [
        "def loss_EDL(func=tf.digamma):\n",
        "    def loss_func(p, alpha, global_step, annealing_step):\n",
        "        S = tf.reduce_sum(alpha, axis=1, keep_dims=True)\n",
        "        E = alpha - 1\n",
        "\n",
        "        A = tf.reduce_sum(p * (func(S) - func(alpha)), axis=1, keepdims=True)\n",
        "\n",
        "        annealing_coef = tf.minimum(1.0, tf.cast(global_step/annealing_step,tf.float32))\n",
        "\n",
        "        alp = E*(1-p) + 1\n",
        "        B =  annealing_coef * KL(alp)\n",
        "\n",
        "        return (A + B)\n",
        "    return loss_func"
      ]
    },
    {
      "cell_type": "code",
      "execution_count": null,
      "metadata": {
        "collapsed": true,
        "id": "MC3QlKFP5eTk"
      },
      "outputs": [],
      "source": [
        "g3, step3, X3, Y3, annealing_step3, keep_prob3, prob3, acc3, loss3, u3, evidence3, \\\n",
        "    mean_ev3, mean_ev_succ3, mean_ev_fail3 = LeNet_EDL(exp_evidence, loss_EDL(tf.digamma), lmb=0.001)"
      ]
    },
    {
      "cell_type": "code",
      "execution_count": null,
      "metadata": {
        "collapsed": true,
        "id": "PQ2AqucY20f2"
      },
      "outputs": [],
      "source": [
        "sess3 = tf.Session(graph=g3)\n",
        "with g3.as_default():\n",
        "    sess3.run(tf.global_variables_initializer())"
      ]
    },
    {
      "cell_type": "code",
      "execution_count": null,
      "metadata": {
        "id": "FDhvxNKN25VE"
      },
      "outputs": [],
      "source": [
        "bsize = 1000 #batch size\n",
        "n_batches = mnist.train.num_examples // bsize\n",
        "L3_train_acc1=[]\n",
        "L3_train_ev_s=[]\n",
        "L3_train_ev_f=[]\n",
        "L3_test_acc1=[]\n",
        "L3_test_ev_s=[]\n",
        "L3_test_ev_f=[]\n",
        "for epoch in range(50):\n",
        "    for i in range(n_batches):\n",
        "        data, label = mnist.train.next_batch(bsize)\n",
        "        feed_dict={X3:data, Y3:label, keep_prob3:.5, annealing_step3:10*n_batches}\n",
        "        sess3.run(step3,feed_dict)\n",
        "        print('epoch %d - %d%%) '% (epoch+1, (100*(i+1))//n_batches), end='\\r' if i<n_batches-1 else '')\n",
        "\n",
        "    train_acc, train_succ, train_fail = sess3.run([acc3,mean_ev_succ3,mean_ev_fail3], feed_dict={X3:mnist.train.images,Y3:mnist.train.labels,keep_prob3:1.})\n",
        "    test_acc, test_succ, test_fail = sess3.run([acc3,mean_ev_succ3,mean_ev_fail3], feed_dict={X3:mnist.test.images,Y3:mnist.test.labels,keep_prob3:1.})\n",
        "\n",
        "    L3_train_acc1.append(train_acc)\n",
        "    L3_train_ev_s.append(train_succ)\n",
        "    L3_train_ev_f.append(train_fail)\n",
        "\n",
        "    L3_test_acc1.append(test_acc)\n",
        "    L3_test_ev_s.append(test_succ)\n",
        "    L3_test_ev_f.append(test_fail)\n",
        "\n",
        "    print('training: %2.4f (%2.4f - %2.4f) \\t testing: %2.4f (%2.4f - %2.4f)' %\n",
        "          (train_acc, train_succ, train_fail, test_acc, test_succ, test_fail))"
      ]
    },
    {
      "cell_type": "code",
      "execution_count": null,
      "metadata": {
        "id": "qbeTD5zl3LEu"
      },
      "outputs": [],
      "source": [
        "draw_EDL_results(L3_train_acc1, L3_train_ev_s, L3_train_ev_f, L3_test_acc1, L3_test_ev_s, L3_test_ev_f)"
      ]
    },
    {
      "cell_type": "markdown",
      "metadata": {
        "id": "TyDVzewP5eTl"
      },
      "source": [
        "The figure above indicates that the neural network generates much more evidence for the correctly classified samples. As a result, it has a very low uncertainty (around zero) for the correctly classified samples, while the uncertainty is very high (around 0.7) for the misclassified samples."
      ]
    },
    {
      "cell_type": "code",
      "execution_count": null,
      "metadata": {
        "id": "yrZTPQ563PlZ"
      },
      "outputs": [],
      "source": [
        "rotating_image_classification(digit_one, sess3, prob3, X3, keep_prob3, u3)"
      ]
    },
    {
      "cell_type": "code",
      "execution_count": null,
      "metadata": {
        "collapsed": true,
        "id": "x1G0RMxw3SWj"
      },
      "outputs": [],
      "source": [
        "## Using Negative Log of the Expected Likelihood (Eq. 3)"
      ]
    },
    {
      "cell_type": "markdown",
      "metadata": {
        "id": "ZPkkh7x35eTl"
      },
      "source": [
        "In this section, we repeat our experiments using the loss function based on Eq. 3 in the paper."
      ]
    },
    {
      "cell_type": "code",
      "execution_count": null,
      "metadata": {
        "collapsed": true,
        "id": "qZeZ8M2-3U2o"
      },
      "outputs": [],
      "source": [
        "g4, step4, X4, Y4, annealing_step4, keep_prob4, prob4, acc4, loss4, u4, evidence4, \\\n",
        "    mean_ev4, mean_ev_succ4, mean_ev_fail4 = LeNet_EDL(exp_evidence, loss_EDL(tf.log), lmb=0.001)"
      ]
    },
    {
      "cell_type": "code",
      "execution_count": null,
      "metadata": {
        "collapsed": true,
        "id": "aVltdhRR5dNG"
      },
      "outputs": [],
      "source": [
        "sess4 = tf.Session(graph=g4)\n",
        "with g4.as_default():\n",
        "    sess4.run(tf.global_variables_initializer())"
      ]
    },
    {
      "cell_type": "code",
      "execution_count": null,
      "metadata": {
        "id": "ZnmB0--c351F"
      },
      "outputs": [],
      "source": [
        "bsize = 1000 #batch size\n",
        "n_batches = mnist.train.num_examples // bsize\n",
        "L4_train_acc1=[]\n",
        "L4_train_ev_s=[]\n",
        "L4_train_ev_f=[]\n",
        "L4_test_acc1=[]\n",
        "L4_test_ev_s=[]\n",
        "L4_test_ev_f=[]\n",
        "for epoch in range(50):\n",
        "    for i in range(n_batches):\n",
        "        data, label = mnist.train.next_batch(bsize)\n",
        "        feed_dict={X4:data, Y4:label, keep_prob4:.5, annealing_step4:10*n_batches}\n",
        "        sess4.run(step4,feed_dict)\n",
        "        print('epoch %d - %d%%) '% (epoch+1, (100*(i+1))//n_batches), end='\\r' if i<n_batches-1 else '')\n",
        "\n",
        "    train_acc, train_succ, train_fail = sess4.run([acc4,mean_ev_succ4,mean_ev_fail4], feed_dict={X4:mnist.train.images,Y4:mnist.train.labels,keep_prob4:1.})\n",
        "    test_acc, test_succ, test_fail = sess4.run([acc4,mean_ev_succ4,mean_ev_fail4], feed_dict={X4:mnist.test.images,Y4:mnist.test.labels,keep_prob4:1.})\n",
        "\n",
        "    L4_train_acc1.append(train_acc)\n",
        "    L4_train_ev_s.append(train_succ)\n",
        "    L4_train_ev_f.append(train_fail)\n",
        "\n",
        "    L4_test_acc1.append(test_acc)\n",
        "    L4_test_ev_s.append(test_succ)\n",
        "    L4_test_ev_f.append(test_fail)\n",
        "\n",
        "    print('training: %2.4f (%2.4f - %2.4f) \\t testing: %2.4f (%2.4f - %2.4f)' %\n",
        "          (train_acc, train_succ, train_fail, test_acc, test_succ, test_fail))"
      ]
    },
    {
      "cell_type": "code",
      "execution_count": null,
      "metadata": {
        "id": "Q62WEjraXN9Z"
      },
      "outputs": [],
      "source": [
        "draw_EDL_results(L4_train_acc1, L4_train_ev_s, L4_train_ev_f, L4_test_acc1, L4_test_ev_s, L4_test_ev_f)"
      ]
    },
    {
      "cell_type": "code",
      "execution_count": null,
      "metadata": {
        "id": "S2I9OEZP5eTl"
      },
      "outputs": [],
      "source": [
        "rotating_image_classification(digit_one, sess4, prob4, X4, keep_prob4, u4)"
      ]
    },
    {
      "cell_type": "markdown",
      "metadata": {
        "id": "GMD24tK_5eTm"
      },
      "source": [
        "# Some Other Data Uncertainty Experiments"
      ]
    },
    {
      "cell_type": "markdown",
      "metadata": {
        "id": "jrFNyUUy5eTm"
      },
      "source": [
        "Consider the case that we mix two digits from the MNIST dataset and query a classifier trained on MNIST dataset to classify it. For example, the following image is created by overlaying digit 0 with digit 6. The resulting image have similarities to both digits but neither 0 nor 6."
      ]
    },
    {
      "cell_type": "code",
      "execution_count": null,
      "metadata": {
        "id": "cb1gfpng5eTm"
      },
      "outputs": [],
      "source": [
        "im0 =  mnist.test.images[10]\n",
        "im6 =  mnist.test.images[21]\n",
        "img = im0 + im6\n",
        "img /= img.max()\n",
        "plt.subplot(1,3,1)\n",
        "plt.imshow(im0.reshape(28,28))\n",
        "plt.subplot(1,3,2)\n",
        "plt.imshow(im6.reshape(28,28))\n",
        "plt.subplot(1,3,3)\n",
        "plt.imshow(img.reshape(28,28))\n",
        "plt.show()"
      ]
    },
    {
      "cell_type": "markdown",
      "metadata": {
        "id": "8IUDjR2z5eTm"
      },
      "source": [
        "The neural network trained with softmax cross entropy loss has the following prediction for the classification of this image, where the image is classifed as 0 with probability 0.9."
      ]
    },
    {
      "cell_type": "code",
      "execution_count": null,
      "metadata": {
        "id": "LgMnyXrM5eTm"
      },
      "outputs": [],
      "source": [
        "p1 = sess1.run(prob1, feed_dict={X1:img[None,:], keep_prob1:1.0})\n",
        "print('softmax prob: ', np.round(p1[0], decimals=3))"
      ]
    },
    {
      "cell_type": "markdown",
      "metadata": {
        "id": "TiOBCGee5eTm"
      },
      "source": [
        "When we do the same experiments on the neural net trained using the loss function in Eq. 7, we have a much different results. The neural network could not generate any evidence to classify the image into one of 10 digits. Hence, it provides uniform distribution as its prediction. It implies I do not know by providing maximum uncertainty."
      ]
    },
    {
      "cell_type": "code",
      "execution_count": null,
      "metadata": {
        "id": "2pf88wXt5eTm"
      },
      "outputs": [],
      "source": [
        "uncertainty2, p2 = sess2.run([u, prob2], feed_dict={X2:img[None,:], keep_prob2:1.0})\n",
        "print('uncertainty:', np.round(uncertainty2[0,0], decimals=2))\n",
        "print('Dirichlet mean: ', np.round(p2[0], decimals=3))"
      ]
    },
    {
      "cell_type": "markdown",
      "metadata": {
        "id": "Xky2iVJx5eTm"
      },
      "source": [
        "When we use the loss function in Eq. 5, the exepcted probability is highest for digit 0. It is around 0.32, however, the associated uncertainty is quite high around 0.73 as shown below."
      ]
    },
    {
      "cell_type": "code",
      "execution_count": null,
      "metadata": {
        "id": "T1TzzBHj5eTm"
      },
      "outputs": [],
      "source": [
        "uncertainty3, p3 = sess3.run([u3, prob3], feed_dict={X3:img[None,:], keep_prob3:1.0})\n",
        "print('uncertainty:', np.round(uncertainty3[0,0], decimals=2))\n",
        "print('Dirichlet mean: ', np.round(p3[0], decimals=3))"
      ]
    },
    {
      "cell_type": "markdown",
      "metadata": {
        "id": "l2wC02eV5eTm"
      },
      "source": [
        "The uncertainty increase to 0.85 while the expected probability for the digit 0 decreases to 0.184 when the loss function in Eq. 6 is used."
      ]
    },
    {
      "cell_type": "code",
      "execution_count": null,
      "metadata": {
        "id": "B0uEJqT95eTm"
      },
      "outputs": [],
      "source": [
        "uncertainty4, p4 = sess4.run([u4, prob4], feed_dict={X4:img[None,:], keep_prob4:1.0})\n",
        "print('uncertainty:', np.round(uncertainty4[0,0], decimals=2))\n",
        "print('Dirichlet mean: ', np.round(p4[0], decimals=3))"
      ]
    },
    {
      "cell_type": "markdown",
      "metadata": {
        "id": "5_YCYY2j5eTn"
      },
      "source": [
        "Lets try another settings where each of these two digits can be recognizable easily. You can see below an image which is created by combining images for digit 0 and digit 6 without any overlap."
      ]
    },
    {
      "cell_type": "code",
      "execution_count": null,
      "metadata": {
        "id": "rThgbiUH5eTn"
      },
      "outputs": [],
      "source": [
        "img = np.zeros((28,28))\n",
        "img[:,:-6] += mnist.test.images[10].reshape(28,28)[:,6:]\n",
        "img[:,14:] += mnist.test.images[21].reshape(28,28)[:,5:19]\n",
        "img /= img.max()\n",
        "plt.imshow(img)\n",
        "plt.show()"
      ]
    },
    {
      "cell_type": "markdown",
      "metadata": {
        "id": "zlPTvj3p5eTn"
      },
      "source": [
        "Below, you can see the prediction of the neural network trained with softmax cross entropy for this example. The prediction of the network is digit 2 with probability 0.775. Hence, the network associates quite high probability with the wrong label."
      ]
    },
    {
      "cell_type": "code",
      "execution_count": null,
      "metadata": {
        "id": "7NqOoRm45eTn"
      },
      "outputs": [],
      "source": [
        "p1 = sess1.run(prob1, feed_dict={X1:img.reshape(1,-1), keep_prob1:1.0})\n",
        "print('softmax prob: ', np.round(p1[0], decimals=3))"
      ]
    },
    {
      "cell_type": "markdown",
      "metadata": {
        "id": "ElW02Iie5eTn"
      },
      "source": [
        "On the otherhand, when we do the same using the network trained based on the loss in Eq. 7, the output of the neural network is uniform distribution with uncertainty 1.0, as shown below."
      ]
    },
    {
      "cell_type": "code",
      "execution_count": null,
      "metadata": {
        "id": "6bvR6GBZ5eTn"
      },
      "outputs": [],
      "source": [
        "uncertainty2, p2 = sess2.run([u, prob2], feed_dict={X2:img.reshape(1,-1), keep_prob2:1.0})\n",
        "print('uncertainty:', np.round(uncertainty2[0,0], decimals=2))\n",
        "print('Dirichlet mean: ', np.round(p2[0], decimals=3))"
      ]
    },
    {
      "cell_type": "markdown",
      "metadata": {
        "id": "ZrYjkFdU5eTn"
      },
      "source": [
        "The neural networks, trained using the loss functions defined in Eq. 5 and Eq. 6 in the paper, also have very high uncertainty for their predictions. These networks assing small amount of evidence for the classification of the image as digit 2. However, they associate very high uncertainty with their misclassifications of the image."
      ]
    },
    {
      "cell_type": "code",
      "execution_count": null,
      "metadata": {
        "id": "w-DbKXto5eTn"
      },
      "outputs": [],
      "source": [
        "uncertainty3, p3 = sess3.run([u3, prob3], feed_dict={X3:img.reshape(1,-1), keep_prob3:1.0})\n",
        "print('uncertainty:', np.round(uncertainty3[0,0], decimals=2))\n",
        "print('Dirichlet mean: ', np.round(p3[0], decimals=3))"
      ]
    },
    {
      "cell_type": "code",
      "execution_count": null,
      "metadata": {
        "id": "q2-7e9KA5eTn"
      },
      "outputs": [],
      "source": [
        "uncertainty4, p4 = sess4.run([u4, prob4], feed_dict={X4:img.reshape(1,-1), keep_prob4:1.0})\n",
        "print('uncertainty:', np.round(uncertainty4[0,0], decimals=2))\n",
        "print('Dirichlet mean: ', np.round(p4[0], decimals=3))"
      ]
    },
    {
      "cell_type": "code",
      "execution_count": null,
      "metadata": {
        "collapsed": true,
        "id": "0RW0QhXD5eTn"
      },
      "outputs": [],
      "source": []
    }
  ],
  "metadata": {
    "accelerator": "GPU",
    "colab": {
      "provenance": []
    },
    "kernelspec": {
      "display_name": "Python 3",
      "language": "python",
      "name": "python3"
    },
    "language_info": {
      "codemirror_mode": {
        "name": "ipython",
        "version": 3
      },
      "file_extension": ".py",
      "mimetype": "text/x-python",
      "name": "python",
      "nbconvert_exporter": "python",
      "pygments_lexer": "ipython3",
      "version": "3.13.5"
    }
  },
  "nbformat": 4,
  "nbformat_minor": 0
}
