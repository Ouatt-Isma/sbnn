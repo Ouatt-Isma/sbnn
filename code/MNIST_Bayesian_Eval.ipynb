{
 "cells": [
  {
   "cell_type": "markdown",
   "id": "cd278e64",
   "metadata": {},
   "source": [
    "# Bayesian Neural Network Evaluation on MNIST\n",
    "This notebook replicates the architecture and setup from the baseline paper and evaluates your custom Bayesian Neural Network implementation."
   ]
  },
  {
   "cell_type": "code",
   "execution_count": 1,
   "id": "1e5f1a85",
   "metadata": {},
   "outputs": [
    {
     "name": "stdout",
     "output_type": "stream",
     "text": [
      "Using device: cpu\n"
     ]
    }
   ],
   "source": [
    "\n",
    "import torch\n",
    "import torch.nn as nn\n",
    "import torch.nn.functional as F\n",
    "from torchvision import datasets, transforms\n",
    "from torch.utils.data import DataLoader\n",
    "import matplotlib.pyplot as plt\n",
    "import numpy as np\n",
    "import os\n",
    "\n",
    "device = torch.device(\"cuda\" if torch.cuda.is_available() else \"cpu\")\n",
    "print(\"Using device:\", device)\n"
   ]
  },
  {
   "cell_type": "code",
   "execution_count": 3,
   "id": "fef12473",
   "metadata": {},
   "outputs": [
    {
     "name": "stdout",
     "output_type": "stream",
     "text": [
      "BayesianNetLeNet(\n",
      "  (conv1): BayesianBinaryConv2d()\n",
      "  (conv2): BayesianBinaryConv2d()\n",
      "  (fc1): BayesianBinaryLinear()\n",
      "  (fc2): BayesianBinaryLinear()\n",
      ")\n"
     ]
    }
   ],
   "source": [
    "\n",
    "# Import the BayesianNet from your file\n",
    "from sbnn import BayesianNet, train, BayesianNetLeNet\n",
    "\n",
    "# Confirm import worked and structure is correct\n",
    "# model = BayesianNetLeNet(input_dim=784, hidden_dim=1000, output_dim=10).to(device)\n",
    "\n"
   ]
  },
  {
   "cell_type": "code",
   "execution_count": 7,
   "id": "f1ba1476",
   "metadata": {},
   "outputs": [],
   "source": [
    "\n",
    "# MNIST loaders\n",
    "batch_size = 1000\n",
    "transform = transforms.Compose([transforms.ToTensor(), transforms.Lambda(lambda x: x.view(-1))])\n",
    "# Define label transform (integer → one-hot vector)\n",
    "target_transform = lambda y: torch.nn.functional.one_hot(torch.tensor(y), num_classes=10).float()\n",
    "\n",
    "train_loader = DataLoader(\n",
    "    datasets.MNIST('./data', train=True, download=True, transform=transform, target_transform=target_transform),\n",
    "    batch_size=batch_size, shuffle=True\n",
    ")\n",
    "\n",
    "test_loader = DataLoader(\n",
    "    datasets.MNIST('./data', train=False, transform=transform, target_transform=target_transform),\n",
    "    batch_size=batch_size, shuffle=False\n",
    ")\n"
   ]
  },
  {
   "cell_type": "code",
   "execution_count": 10,
   "id": "9598bf85",
   "metadata": {},
   "outputs": [
    {
     "name": "stdout",
     "output_type": "stream",
     "text": [
      "Epoch 0: Loss=132.7400, Accuracy=24.58%\n",
      "Epoch 1: Loss=117.3858, Accuracy=50.24%\n",
      "Epoch 2: Loss=111.0137, Accuracy=60.94%\n",
      "Epoch 3: Loss=108.0653, Accuracy=65.94%\n",
      "Epoch 4: Loss=106.5121, Accuracy=68.51%\n",
      "Epoch 5: Loss=104.9642, Accuracy=71.08%\n",
      "Epoch 6: Loss=102.4993, Accuracy=75.19%\n",
      "Epoch 7: Loss=99.9216, Accuracy=79.50%\n",
      "Epoch 8: Loss=98.5379, Accuracy=81.82%\n",
      "Epoch 9: Loss=97.7857, Accuracy=83.10%\n",
      "Epoch 10: Loss=97.1953, Accuracy=84.05%\n",
      "Epoch 11: Loss=96.6279, Accuracy=85.02%\n",
      "Epoch 12: Loss=96.3001, Accuracy=85.57%\n",
      "Epoch 13: Loss=96.1181, Accuracy=85.86%\n",
      "Epoch 14: Loss=95.8978, Accuracy=86.23%\n",
      "Epoch 15: Loss=95.4503, Accuracy=86.99%\n",
      "Epoch 16: Loss=95.4588, Accuracy=86.96%\n",
      "Epoch 17: Loss=95.0413, Accuracy=87.65%\n",
      "Epoch 18: Loss=94.8933, Accuracy=87.92%\n",
      "Epoch 19: Loss=94.7934, Accuracy=88.09%\n",
      "Epoch 20: Loss=94.5514, Accuracy=88.51%\n",
      "Epoch 21: Loss=94.4263, Accuracy=88.70%\n",
      "Epoch 22: Loss=94.4128, Accuracy=88.73%\n",
      "Epoch 23: Loss=94.2320, Accuracy=89.02%\n",
      "Epoch 24: Loss=94.2493, Accuracy=89.00%\n",
      "Epoch 25: Loss=93.9732, Accuracy=89.46%\n",
      "Epoch 26: Loss=93.7744, Accuracy=89.80%\n",
      "Epoch 27: Loss=93.7658, Accuracy=89.82%\n",
      "Epoch 28: Loss=93.5123, Accuracy=90.24%\n",
      "Epoch 29: Loss=93.5791, Accuracy=90.10%\n",
      "Epoch 30: Loss=93.5330, Accuracy=90.19%\n",
      "Epoch 31: Loss=93.3346, Accuracy=90.53%\n",
      "Epoch 32: Loss=93.1495, Accuracy=90.84%\n",
      "Epoch 33: Loss=93.1448, Accuracy=90.87%\n",
      "Epoch 34: Loss=93.1281, Accuracy=90.88%\n",
      "Epoch 35: Loss=93.0073, Accuracy=91.06%\n",
      "Epoch 36: Loss=93.0173, Accuracy=91.04%\n",
      "Epoch 37: Loss=92.9133, Accuracy=91.23%\n",
      "Epoch 38: Loss=92.8639, Accuracy=91.31%\n",
      "Epoch 39: Loss=92.7296, Accuracy=91.54%\n",
      "Epoch 40: Loss=92.6442, Accuracy=91.68%\n",
      "Epoch 41: Loss=92.6089, Accuracy=91.72%\n",
      "Epoch 42: Loss=92.6168, Accuracy=91.72%\n",
      "Epoch 43: Loss=92.5039, Accuracy=91.92%\n",
      "Epoch 44: Loss=92.4515, Accuracy=92.04%\n",
      "Epoch 45: Loss=92.4986, Accuracy=91.94%\n",
      "Epoch 46: Loss=92.3365, Accuracy=92.20%\n",
      "Epoch 47: Loss=92.2258, Accuracy=92.36%\n",
      "Epoch 48: Loss=92.2016, Accuracy=92.44%\n",
      "Epoch 49: Loss=92.1929, Accuracy=92.41%\n"
     ]
    }
   ],
   "source": [
    "\n",
    "# Initialize model\n",
    "model = BayesianNet(input_dim=784, hidden_dim=1000, output_dim=10).to(device)\n",
    "# model = BayesianNetLeNet().to(device)\n",
    "optimizer = torch.optim.Adam(model.parameters(), lr=1e-3)\n",
    "\n",
    "# Training function using your code\n",
    "def train_mnist(model, train_loader, epochs=10):\n",
    "    model.train()\n",
    "    for epoch in range(epochs):\n",
    "        total_loss = 0\n",
    "        correct = 0\n",
    "        total = 0\n",
    "        for x, y in train_loader:\n",
    "            x, y = x.to(device), y.to(device)\n",
    "            # x = x.view(-1, 1, 28, 28)  # ✅ RESHAPE for conv2d\n",
    "            optimizer.zero_grad()\n",
    "            out, _, _ = model(x)\n",
    "            loss = F.cross_entropy(out, y)\n",
    "            loss.backward()\n",
    "            optimizer.step()\n",
    "            total_loss += loss.item()\n",
    "            pred = out.argmax(dim=1)\n",
    "            correct += (pred == y).sum().item()\n",
    "            total += y.size(0)\n",
    "        print(f\"Epoch {epoch}: Loss={total_loss:.4f}, Accuracy={correct/total:.2%}\")\n",
    "\n",
    "train_mnist(model, train_loader, epochs=50)\n"
   ]
  },
  {
   "cell_type": "code",
   "execution_count": 11,
   "id": "c05dba31",
   "metadata": {},
   "outputs": [
    {
     "name": "stdout",
     "output_type": "stream",
     "text": [
      "Test Accuracy: 0.9401\n"
     ]
    }
   ],
   "source": [
    "\n",
    "# Evaluate with predictive uncertainty from Bayesian model\n",
    "model.eval()\n",
    "all_preds = []\n",
    "all_targets = []\n",
    "\n",
    "with torch.no_grad():\n",
    "    for x, y in test_loader:\n",
    "        x = x.to(device)\n",
    "        mean_preds, std_preds = model.predict_multiple(x, n_samples=20)\n",
    "        preds = mean_preds.argmax(dim=1)\n",
    "        all_preds.extend(preds.cpu().numpy())\n",
    "        all_targets.extend(y.numpy())\n",
    "\n",
    "from sklearn.metrics import accuracy_score\n",
    "print(\"Test Accuracy:\", accuracy_score(all_targets, all_preds))\n"
   ]
  }
 ],
 "metadata": {
  "kernelspec": {
   "display_name": "sbnn",
   "language": "python",
   "name": "python3"
  },
  "language_info": {
   "codemirror_mode": {
    "name": "ipython",
    "version": 3
   },
   "file_extension": ".py",
   "mimetype": "text/x-python",
   "name": "python",
   "nbconvert_exporter": "python",
   "pygments_lexer": "ipython3",
   "version": "3.11.9"
  }
 },
 "nbformat": 4,
 "nbformat_minor": 5
}
