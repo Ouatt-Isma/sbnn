{
 "cells": [
  {
   "cell_type": "markdown",
   "id": "cd278e64",
   "metadata": {},
   "source": [
    "# Bayesian Neural Network Evaluation on MNIST\n",
    "This notebook replicates the architecture and setup from the baseline paper and evaluates your custom Bayesian Neural Network implementation."
   ]
  },
  {
   "cell_type": "code",
   "execution_count": 1,
   "id": "1e5f1a85",
   "metadata": {},
   "outputs": [
    {
     "name": "stdout",
     "output_type": "stream",
     "text": [
      "Using device: cpu\n"
     ]
    }
   ],
   "source": [
    "\n",
    "import torch\n",
    "import torch.nn as nn\n",
    "import torch.nn.functional as F\n",
    "from torchvision import datasets, transforms\n",
    "from torch.utils.data import DataLoader\n",
    "import matplotlib.pyplot as plt\n",
    "import numpy as np\n",
    "import os\n",
    "\n",
    "device = torch.device(\"cuda\" if torch.cuda.is_available() else \"cpu\")\n",
    "print(\"Using device:\", device)\n"
   ]
  },
  {
   "cell_type": "code",
   "execution_count": 2,
   "id": "fef12473",
   "metadata": {},
   "outputs": [
    {
     "name": "stdout",
     "output_type": "stream",
     "text": [
      "BayesianNet(\n",
      "  (layer1): BayesianBinaryLinear()\n",
      "  (layer2): BayesianBinaryLinear()\n",
      ")\n"
     ]
    }
   ],
   "source": [
    "\n",
    "# Import the BayesianNet from your file\n",
    "from sbnn import BayesianNet, train\n",
    "\n",
    "# Confirm import worked and structure is correct\n",
    "model = BayesianNet(input_dim=784, hidden_dim=1000, output_dim=10).to(device)\n",
    "print(model)\n"
   ]
  },
  {
   "cell_type": "code",
   "execution_count": 3,
   "id": "f1ba1476",
   "metadata": {},
   "outputs": [
    {
     "name": "stderr",
     "output_type": "stream",
     "text": [
      "100.0%\n",
      "100.0%\n",
      "100.0%\n",
      "100.0%\n"
     ]
    }
   ],
   "source": [
    "\n",
    "# MNIST loaders\n",
    "batch_size = 256\n",
    "transform = transforms.Compose([transforms.ToTensor(), transforms.Lambda(lambda x: x.view(-1))])\n",
    "\n",
    "train_loader = DataLoader(\n",
    "    datasets.MNIST('./data', train=True, download=True, transform=transform),\n",
    "    batch_size=batch_size, shuffle=True\n",
    ")\n",
    "\n",
    "test_loader = DataLoader(\n",
    "    datasets.MNIST('./data', train=False, transform=transform),\n",
    "    batch_size=batch_size, shuffle=False\n",
    ")\n"
   ]
  },
  {
   "cell_type": "code",
   "execution_count": 4,
   "id": "9598bf85",
   "metadata": {},
   "outputs": [
    {
     "name": "stdout",
     "output_type": "stream",
     "text": [
      "Epoch 0: Loss=478.7492, Accuracy=42.18%\n",
      "Epoch 1: Loss=438.3519, Accuracy=59.44%\n",
      "Epoch 2: Loss=425.4933, Accuracy=64.94%\n",
      "Epoch 3: Loss=409.6479, Accuracy=71.71%\n",
      "Epoch 4: Loss=401.8973, Accuracy=75.02%\n",
      "Epoch 5: Loss=397.7937, Accuracy=76.77%\n",
      "Epoch 6: Loss=395.3733, Accuracy=77.80%\n",
      "Epoch 7: Loss=393.6811, Accuracy=78.55%\n",
      "Epoch 8: Loss=392.4736, Accuracy=79.05%\n",
      "Epoch 9: Loss=390.6089, Accuracy=79.87%\n"
     ]
    }
   ],
   "source": [
    "\n",
    "# Initialize model\n",
    "model = BayesianNet(input_dim=784, hidden_dim=1000, output_dim=10).to(device)\n",
    "optimizer = torch.optim.Adam(model.parameters(), lr=1e-3)\n",
    "\n",
    "# Training function using your code\n",
    "def train_mnist(model, train_loader, epochs=10):\n",
    "    model.train()\n",
    "    for epoch in range(epochs):\n",
    "        total_loss = 0\n",
    "        correct = 0\n",
    "        total = 0\n",
    "        for x, y in train_loader:\n",
    "            x, y = x.to(device), y.to(device)\n",
    "            optimizer.zero_grad()\n",
    "            out, _, _ = model(x)\n",
    "            loss = F.cross_entropy(out, y)\n",
    "            loss.backward()\n",
    "            optimizer.step()\n",
    "            total_loss += loss.item()\n",
    "            pred = out.argmax(dim=1)\n",
    "            correct += (pred == y).sum().item()\n",
    "            total += y.size(0)\n",
    "        print(f\"Epoch {epoch}: Loss={total_loss:.4f}, Accuracy={correct/total:.2%}\")\n",
    "\n",
    "train_mnist(model, train_loader, epochs=10)\n"
   ]
  },
  {
   "cell_type": "code",
   "execution_count": 5,
   "id": "c05dba31",
   "metadata": {},
   "outputs": [
    {
     "name": "stdout",
     "output_type": "stream",
     "text": [
      "Test Accuracy: 0.8299\n"
     ]
    }
   ],
   "source": [
    "\n",
    "# Evaluate with predictive uncertainty from Bayesian model\n",
    "model.eval()\n",
    "all_preds = []\n",
    "all_targets = []\n",
    "\n",
    "with torch.no_grad():\n",
    "    for x, y in test_loader:\n",
    "        x = x.to(device)\n",
    "        mean_preds, std_preds = model.predict_multiple(x, n_samples=20)\n",
    "        preds = mean_preds.argmax(dim=1)\n",
    "        all_preds.extend(preds.cpu().numpy())\n",
    "        all_targets.extend(y.numpy())\n",
    "\n",
    "from sklearn.metrics import accuracy_score\n",
    "print(\"Test Accuracy:\", accuracy_score(all_targets, all_preds))\n"
   ]
  }
 ],
 "metadata": {
  "kernelspec": {
   "display_name": "sbnn",
   "language": "python",
   "name": "python3"
  },
  "language_info": {
   "codemirror_mode": {
    "name": "ipython",
    "version": 3
   },
   "file_extension": ".py",
   "mimetype": "text/x-python",
   "name": "python",
   "nbconvert_exporter": "python",
   "pygments_lexer": "ipython3",
   "version": "3.11.9"
  }
 },
 "nbformat": 4,
 "nbformat_minor": 5
}
